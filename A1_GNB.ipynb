{
 "metadata": {
  "language_info": {
   "codemirror_mode": {
    "name": "ipython",
    "version": 3
   },
   "file_extension": ".py",
   "mimetype": "text/x-python",
   "name": "python",
   "nbconvert_exporter": "python",
   "pygments_lexer": "ipython3",
   "version": "3.8.3-final"
  },
  "orig_nbformat": 2,
  "kernelspec": {
   "name": "Python 3.8.3 64-bit ('base': conda)",
   "display_name": "Python 3.8.3 64-bit ('base': conda)",
   "metadata": {
    "interpreter": {
     "hash": "14737f34d33bafd070bec9101b483950d2d3e55091a34c66760d56e0a728b202"
    }
   }
  }
 },
 "nbformat": 4,
 "nbformat_minor": 2,
 "cells": [
  {
   "cell_type": "code",
   "execution_count": 33,
   "metadata": {},
   "outputs": [],
   "source": [
    "# Import useful packages\n",
    "import numpy as np\n",
    "import sklearn\n",
    "import sklearn.naive_bayes\n",
    "import sklearn.metrics"
   ]
  },
  {
   "cell_type": "code",
   "execution_count": 34,
   "metadata": {},
   "outputs": [],
   "source": [
    "# Define useful functions\n",
    "def create_output_file(y_actual, y_predicted, labels, filename):\n",
    "    '''\n",
    "    Function for creating the ouput file as specified in the assignment instructions:\n",
    "    a) instance number and predicted label (number)\n",
    "    b) Confusion matrix\n",
    "    c) Precision, recall and f1-measure of each class\n",
    "    d) Accuracy, macro-average f1 and weighted-average f1 score of the model\n",
    "\n",
    "    y_actual: numpy array of shape (N,) containing the actual class of each test instance\n",
    "    y_predicted: numpy array of shape (N,) containing the class of each test instance predicted by the model\n",
    "    labels: 1D numpy array containing the class labels of the dataset\n",
    "    filename: name of the output (.csv) file\n",
    "    '''\n",
    "\n",
    "    # Open file\n",
    "    output = open('A1-Output/' + filename + '.csv', 'w')\n",
    "\n",
    "    # a) Write y values of test data\n",
    "    output.write('instance,prediction\\n')\n",
    "    for i in range(y_predicted.shape[0]):\n",
    "        output.write(str(i+1) + ',' + str(y_predicted[i]) + '\\n')\n",
    "\n",
    "    output.write('\\n')\n",
    "\n",
    "    # b) Plot confusion matrix\n",
    "    output.write('confusion matrix\\n')\n",
    "    confusion_matrix = sklearn.metrics.confusion_matrix(y_actual, y_predicted)\n",
    "    (m, n) = confusion_matrix.shape\n",
    "    for i in range(m):\n",
    "        for j in range(n):\n",
    "            if j < n-1:\n",
    "                output.write(str(confusion_matrix[i,j]) + ',')\n",
    "            else:\n",
    "                output.write(str(confusion_matrix[i,j]))\n",
    "        output.write('\\n')\n",
    "\n",
    "    output.write('\\n')\n",
    "\n",
    "    # c) Write precision, recall and f1-measure of each class (rounded to 2 decimals)\n",
    "    output.write('precision,recall,f1-measure\\n')\n",
    "    precision = sklearn.metrics.precision_score(y_actual, y_predicted, average=None)\n",
    "    recall = sklearn.metrics.recall_score(y_actual, y_predicted, average=None)\n",
    "    f1 = sklearn.metrics.f1_score(y_actual, y_predicted, average=None)\n",
    "\n",
    "    for i in range(labels.shape[0]):\n",
    "        #output.write(str(precision[i]) + ',' + str(recall[i]) + ',' + str(f1[i]) + '\\n')\n",
    "        output.write('{:.2f},{:.2f},{:.2f}\\n'.format(precision[i], recall[i], f1[i]))\n",
    "\n",
    "    output.write('\\n')\n",
    "\n",
    "    # Write accuracy, macro-average f1 and weighted-average f1 of the model (rounded to 2 decimals)\n",
    "    output.write('accuracy,macro-average f-1,weighted-average f1\\n') \n",
    "    accuracy = sklearn.metrics.accuracy_score(y_actual, y_predicted)\n",
    "    macro_avg_f1 = sklearn.metrics.f1_score(y_actual, y_predicted, average='macro')\n",
    "    weighted_avg_f1 = sklearn.metrics.f1_score(y_actual, y_predicted, average='weighted')\n",
    "    #output.write(str(accuracy) + ',' + str(macro_avg_f1) + ',' + str(weighted_avg_f1))\n",
    "    output.write('{:.2f},{:.2f},{:.2f}\\n'.format(accuracy, macro_avg_f1, weighted_avg_f1))\n",
    "\n",
    "    # Close output file\n",
    "    output.close()\n",
    "\n",
    "def load_dataset(filename, nb_pixels=32**2):\n",
    "    '''\n",
    "    Function for loading the X and Y data of the passed csv file\n",
    "\n",
    "    filename: name of the file containing the dataset (ex: train_1)\n",
    "\n",
    "    Return: \n",
    "    X: 2D numpy array containing the value of the features of each instance\n",
    "    Y: 1D numpy array containing the true class of each instance \n",
    "    '''\n",
    "    data = np.loadtxt('Assig1-Dataset/' + filename + '.csv', delimiter=',', dtype=np.int32)\n",
    "    return data[:, :nb_pixels], data[:, nb_pixels]\n"
   ]
  },
  {
   "cell_type": "code",
   "execution_count": 35,
   "metadata": {
    "tags": []
   },
   "outputs": [],
   "source": [
    "# Load training and validation data for dataset 1\n",
    "ds1_labels = np.loadtxt('Assig1-Dataset/info_1.csv', skiprows=1, usecols=1, delimiter=',', dtype=np.str)\n",
    "\n",
    "ds1_training_X, ds1_training_Y = load_dataset('train_1')\n",
    "ds1_val_X, ds1_val_Y = load_dataset('val_1')"
   ]
  },
  {
   "cell_type": "code",
   "execution_count": 36,
   "metadata": {},
   "outputs": [],
   "source": [
    "# Train Gaussian NB model for dataset 1\n",
    "ds1_gaussian_nb_model = sklearn.naive_bayes.GaussianNB().fit(ds1_training_X, ds1_training_Y)"
   ]
  },
  {
   "cell_type": "code",
   "execution_count": 37,
   "metadata": {
    "tags": []
   },
   "outputs": [
    {
     "output_type": "stream",
     "name": "stdout",
     "text": [
      "[[ 5  1  0  0  0  0  0  0  0  0  0  0  2  0  0  0  0  2  0  0  0  0  0  0\n   0  0]\n [ 0  8  0  0  0  0  0  0  0  0  0  0  1  0  0  0  0  0  0  0  0  0  0  0\n   0  0]\n [ 0  0  6  0  1  0  0  0  0  0  0  0  1  0  1  0  1  0  0  0  0  0  0  0\n   0  0]\n [ 0  0  0  8  0  0  0  0  0  0  0  0  0  0  0  0  0  0  0  0  0  0  0  0\n   0  0]\n [ 0  2  0  0  5  0  0  0  0  0  0  0  1  0  0  0  0  0  0  0  0  0  0  0\n   0  0]\n [ 0  0  0  0  0  5  0  0  0  0  1  0  1  0  0  1  0  0  0  0  0  0  0  0\n   0  0]\n [ 0  0  0  0  0  0  7  0  0  0  0  0  2  0  0  0  1  0  0  0  0  0  0  0\n   0  0]\n [ 1  1  0  0  0  0  0  4  0  0  0  0  2  0  0  0  0  1  0  0  0  0  0  0\n   0  0]\n [ 0  0  0  0  0  0  0  0  9  0  0  0  0  0  0  0  0  1  0  0  0  0  0  0\n   0  0]\n [ 0  1  0  0  0  1  0  0  0  6  0  0  1  0  0  0  1  0  0  0  0  0  0  0\n   0  0]\n [ 1  0  0  1  0  0  0  0  0  0  7  0  0  0  0  0  0  1  0  0  0  0  0  0\n   0  0]\n [ 0  0  0  0  0  0  0  0  0  0  0 10  0  0  0  0  0  0  0  0  0  0  0  0\n   0  0]\n [ 1  3  0  0  0  0  0  0  0  0  0  0  4  1  0  0  0  0  0  0  0  0  1  0\n   0  0]\n [ 1  0  0  0  0  0  0  0  0  0  0  0  2  6  0  1  0  0  0  0  0  0  0  0\n   0  0]\n [ 0  0  0  2  0  0  0  0  0  0  0  0  0  0  7  0  1  0  0  0  0  0  0  0\n   0  0]\n [ 0  0  0  0  0  0  0  0  0  0  0  0  0  0  0  9  0  0  0  0  0  0  0  0\n   0  1]\n [ 0  1  0  0  0  0  0  0  0  0  0  0  2  0  0  0  7  0  0  0  0  0  0  0\n   0  0]\n [ 0  1  0  0  0  0  0  0  0  0  1  0  1  0  0  1  0  6  0  0  0  0  0  0\n   0  0]\n [ 0  2  0  0  0  0  0  0  0  0  0  0  0  0  0  0  1  0  6  0  0  0  0  0\n   0  0]\n [ 0  0  0  0  0  1  0  0  2  0  0  0  0  0  0  0  0  0  0  4  0  0  0  0\n   0  1]\n [ 0  0  0  0  0  0  0  0  0  0  0  0  1  0  3  0  0  0  0  0  3  0  1  0\n   0  0]\n [ 0  0  0  0  0  0  0  0  0  0  0  0  0  1  0  0  0  0  0  0  0  4  3  0\n   0  0]\n [ 0  0  0  0  0  0  0  0  0  0  0  0  1  0  0  0  0  0  0  0  0  0  8  0\n   0  0]\n [ 0  0  0  0  0  0  0  0  0  0  0  0  4  0  0  0  0  0  0  0  0  1  0  3\n   0  0]\n [ 0  0  0  0  0  0  0  0  0  0  0  0  1  0  0  0  0  0  0  1  0  0  0  0\n   6  0]\n [ 0  0  0  0  0  0  0  0  0  0  0  0  0  0  0  0  0  0  0  0  0  0  0  0\n   0  9]]\n\n\n              precision    recall  f1-score   support\n\n           A       0.56      0.50      0.53        10\n           B       0.40      0.89      0.55         9\n           C       1.00      0.60      0.75        10\n           D       0.73      1.00      0.84         8\n           E       0.83      0.62      0.71         8\n           F       0.71      0.62      0.67         8\n           G       1.00      0.70      0.82        10\n           H       1.00      0.44      0.62         9\n           I       0.82      0.90      0.86        10\n           J       1.00      0.60      0.75        10\n           K       0.78      0.70      0.74        10\n           L       1.00      1.00      1.00        10\n           M       0.15      0.40      0.22        10\n           N       0.75      0.60      0.67        10\n           O       0.64      0.70      0.67        10\n           P       0.75      0.90      0.82        10\n           Q       0.58      0.70      0.64        10\n           R       0.55      0.60      0.57        10\n           S       1.00      0.67      0.80         9\n           T       0.80      0.50      0.62         8\n           U       1.00      0.38      0.55         8\n           V       0.80      0.50      0.62         8\n           W       0.62      0.89      0.73         9\n           X       1.00      0.38      0.55         8\n           Y       1.00      0.75      0.86         8\n           Z       0.82      1.00      0.90         9\n\n    accuracy                           0.68       239\n   macro avg       0.78      0.67      0.69       239\nweighted avg       0.77      0.68      0.69       239\n\n"
     ]
    }
   ],
   "source": [
    "# Use validation data to test first\n",
    "ds1_val_Y_predict = ds1_gaussian_nb_model.predict(ds1_val_X)\n",
    "\n",
    "# Check validation metrics and modify hyper-parameters as needed in previous cell\n",
    "print (sklearn.metrics.confusion_matrix(ds1_val_Y, ds1_val_Y_predict)) # confusion matrix\n",
    "print ('\\n')\n",
    "print (sklearn.metrics.classification_report(ds1_val_Y, ds1_val_Y_predict, target_names=ds1_labels)) # precision, recall, f1-measure (macro and weighted) and accuracy\n"
   ]
  },
  {
   "cell_type": "code",
   "execution_count": 38,
   "metadata": {},
   "outputs": [
    {
     "output_type": "stream",
     "name": "stdout",
     "text": [
      "[[2 0 0 0 0 0 0 0 0 0 0 0 1 0 0 0 0 1 0 0 0 0 0 0 0 0]\n [0 2 0 0 0 0 0 0 0 0 0 0 0 0 0 0 0 0 0 0 0 0 0 0 0 0]\n [0 0 3 0 0 0 1 0 0 0 0 0 0 0 0 0 0 0 0 0 0 0 0 0 0 0]\n [0 1 0 2 0 0 0 0 0 0 0 0 0 0 0 0 0 0 0 0 0 0 0 0 0 0]\n [0 1 0 0 0 1 0 0 0 0 0 0 0 0 0 0 0 0 0 0 0 0 0 0 0 0]\n [0 0 0 0 0 1 0 0 0 0 0 0 1 0 0 0 0 0 0 0 0 0 0 0 0 0]\n [0 1 0 0 0 0 2 0 0 0 0 0 1 0 0 0 0 0 0 0 0 0 0 0 0 0]\n [1 0 0 0 0 0 0 1 0 0 0 0 0 1 0 0 0 0 0 0 0 0 0 0 0 0]\n [0 0 0 0 0 0 0 0 3 0 0 0 0 0 0 0 0 0 0 0 0 0 0 0 0 0]\n [0 1 0 0 0 0 0 0 0 2 0 0 0 0 0 0 1 0 0 0 0 0 0 0 0 0]\n [0 0 0 0 0 0 0 0 0 0 1 0 0 0 0 0 0 2 0 0 0 0 0 0 0 0]\n [0 0 0 0 0 0 0 0 0 0 0 3 0 0 0 0 0 0 0 0 0 0 0 0 0 1]\n [0 0 0 0 0 0 0 0 0 0 0 0 2 1 0 0 0 0 0 0 0 0 0 0 0 0]\n [0 0 0 1 0 0 0 0 0 0 0 0 0 3 0 0 0 0 0 0 0 0 0 0 0 0]\n [0 0 0 0 0 0 0 0 0 0 0 0 0 0 3 0 0 0 0 0 0 0 0 0 0 0]\n [1 0 0 0 0 0 0 0 0 0 0 0 0 0 0 2 0 0 0 0 0 0 0 0 0 0]\n [0 0 0 0 0 0 0 0 0 0 0 0 0 0 0 0 3 0 0 0 0 0 0 0 0 0]\n [0 0 0 0 0 0 0 0 0 0 1 0 0 0 0 0 0 3 0 0 0 0 0 0 0 0]\n [0 0 0 0 0 0 0 0 0 0 0 0 0 0 0 0 1 0 2 0 0 0 0 0 0 0]\n [0 0 0 0 0 0 0 0 0 0 0 0 0 0 0 0 0 0 0 2 0 0 0 0 0 0]\n [0 0 0 0 0 0 0 0 0 0 0 0 0 0 0 0 0 0 0 0 3 0 0 0 0 0]\n [0 0 0 0 0 0 0 0 0 0 0 0 0 0 0 0 0 0 0 0 0 2 1 0 0 0]\n [0 0 0 0 0 0 0 0 0 0 0 0 0 0 0 0 0 0 0 0 0 0 3 0 0 0]\n [0 0 0 0 0 0 0 0 0 0 0 0 1 0 0 0 0 0 0 0 0 0 0 1 0 0]\n [0 0 0 0 0 0 0 0 0 0 0 0 0 0 0 0 0 0 0 0 0 1 0 0 2 0]\n [0 0 0 0 0 0 0 0 0 0 0 0 1 0 0 0 0 0 0 0 0 0 0 0 0 2]]\n\n\n              precision    recall  f1-score   support\n\n           A       0.50      0.50      0.50         4\n           B       0.33      1.00      0.50         2\n           C       1.00      0.75      0.86         4\n           D       0.67      0.67      0.67         3\n           E       0.00      0.00      0.00         2\n           F       0.50      0.50      0.50         2\n           G       0.67      0.50      0.57         4\n           H       1.00      0.33      0.50         3\n           I       1.00      1.00      1.00         3\n           J       1.00      0.50      0.67         4\n           K       0.50      0.33      0.40         3\n           L       1.00      0.75      0.86         4\n           M       0.29      0.67      0.40         3\n           N       0.60      0.75      0.67         4\n           O       1.00      1.00      1.00         3\n           P       1.00      0.67      0.80         3\n           Q       0.60      1.00      0.75         3\n           R       0.50      0.75      0.60         4\n           S       1.00      0.67      0.80         3\n           T       1.00      1.00      1.00         2\n           U       1.00      1.00      1.00         3\n           V       0.67      0.67      0.67         3\n           W       0.75      1.00      0.86         3\n           X       1.00      0.50      0.67         2\n           Y       1.00      0.67      0.80         3\n           Z       0.67      0.67      0.67         3\n\n    accuracy                           0.69        80\n   macro avg       0.74      0.69      0.68        80\nweighted avg       0.75      0.69      0.69        80\n\n"
     ]
    }
   ],
   "source": [
    "# When ready, do testing\n",
    "ds1_test_X, ds1_test_Y = load_dataset('test_with_label_1')\n",
    "\n",
    "ds1_test_Y_predict = ds1_gaussian_nb_model.predict(ds1_test_X)\n",
    "\n",
    "# Check test metrics\n",
    "print (sklearn.metrics.confusion_matrix(ds1_test_Y, ds1_test_Y_predict)) # confusion matrix\n",
    "print ('\\n')\n",
    "print (sklearn.metrics.classification_report(ds1_test_Y, ds1_test_Y_predict, target_names=ds1_labels)) # precision, recall, f1-measure (macro and weighted average) and accuracy\n",
    "\n",
    "# Write test results to output file GNB-DS1.csv\n",
    "create_output_file(ds1_test_Y, ds1_test_Y_predict, ds1_labels, 'GNB-DS1')"
   ]
  },
  {
   "cell_type": "code",
   "execution_count": 39,
   "metadata": {},
   "outputs": [],
   "source": [
    "# Load training and validation data for dataset 2\n",
    "ds2_labels = np.loadtxt('Assig1-Dataset/info_2.csv', skiprows=1, usecols=1, delimiter=',', dtype=np.str)\n",
    "\n",
    "ds2_training_X, ds2_training_Y = load_dataset('train_2')\n",
    "ds2_val_X, ds2_val_Y = load_dataset('val_2')\n"
   ]
  },
  {
   "cell_type": "code",
   "execution_count": 40,
   "metadata": {},
   "outputs": [],
   "source": [
    "# Train Gaussian NB model for dataset 2\n",
    "ds2_gaussian_nb_model = sklearn.naive_bayes.GaussianNB().fit(ds2_training_X, ds2_training_Y)"
   ]
  },
  {
   "cell_type": "code",
   "execution_count": 41,
   "metadata": {},
   "outputs": [
    {
     "output_type": "stream",
     "name": "stdout",
     "text": [
      "[[ 60  11   3  60  29   0   0   0   1   1]\n [ 14 341   2  14   1   2   0   1   0   0]\n [  6   0  29   0   0   1   4   0   2   3]\n [  1   3   1  40   0   0   0   0   0   0]\n [  5   1   6   7  68   4   8   0   1  50]\n [  5   0   4  11   6  91  14   0   2  32]\n [  0   1   0   0   0   0  42   0   1   1]\n [  1   3   0   1   0   0   0  39   0   1]\n [  6   6  65   2   0   1  16   1  48   5]\n [  6   2  10   2  11  19  63   0   1 261]]\n\n\n              precision    recall  f1-score   support\n\n          pi       0.58      0.36      0.45       165\n       alpha       0.93      0.91      0.92       375\n        beta       0.24      0.64      0.35        45\n       sigma       0.29      0.89      0.44        45\n       gamma       0.59      0.45      0.51       150\n       delta       0.77      0.55      0.64       165\n      lambda       0.29      0.93      0.44        45\n       omega       0.95      0.87      0.91        45\n          mu       0.86      0.32      0.47       150\n          xi       0.74      0.70      0.72       375\n\n    accuracy                           0.65      1560\n   macro avg       0.62      0.66      0.58      1560\nweighted avg       0.73      0.65      0.66      1560\n\n"
     ]
    }
   ],
   "source": [
    "# Use validation data to test first\n",
    "ds2_val_Y_predict = ds2_gaussian_nb_model.predict(ds2_val_X)\n",
    "\n",
    "# Check validation metrics and adjust hyper-parameters as needed in previous cell\n",
    "print (sklearn.metrics.confusion_matrix(ds2_val_Y, ds2_val_Y_predict)) # confusion matrix\n",
    "print ('\\n')\n",
    "print (sklearn.metrics.classification_report(ds2_val_Y, ds2_val_Y_predict, target_names=ds2_labels)) # precision, recall, f1-measure (macro and weighted) and accuracy"
   ]
  },
  {
   "cell_type": "code",
   "execution_count": 42,
   "metadata": {},
   "outputs": [
    {
     "output_type": "stream",
     "name": "stdout",
     "text": [
      "[[ 26   4   1  14   8   1   0   0   1   0]\n [  6 111   1   6   0   1   0   0   0   0]\n [  0   0  12   0   1   0   0   0   1   1]\n [  1   0   0  14   0   0   0   0   0   0]\n [  2   0   1   6  20   2   4   0   0  15]\n [  0   0   1   1   1  34   8   0   0  10]\n [  3   1   0   0   0   0  11   0   0   0]\n [  0   1   0   0   0   0   0  14   0   0]\n [  1   2  26   0   0   0   5   0  15   1]\n [  4   1   1   0   4   7  17   0   0  91]]\n\n\n              precision    recall  f1-score   support\n\n          pi       0.60      0.47      0.53        55\n       alpha       0.93      0.89      0.91       125\n        beta       0.28      0.80      0.41        15\n       sigma       0.34      0.93      0.50        15\n       gamma       0.59      0.40      0.48        50\n       delta       0.76      0.62      0.68        55\n      lambda       0.24      0.73      0.37        15\n       omega       1.00      0.93      0.97        15\n          mu       0.88      0.30      0.45        50\n          xi       0.77      0.73      0.75       125\n\n    accuracy                           0.67       520\n   macro avg       0.64      0.68      0.60       520\nweighted avg       0.75      0.67      0.68       520\n\n"
     ]
    }
   ],
   "source": [
    "# When ready, do testing\n",
    "ds2_test_X, ds2_test_Y = load_dataset('test_with_label_2')\n",
    "\n",
    "ds2_test_Y_predict = ds2_gaussian_nb_model.predict(ds2_test_X)\n",
    "\n",
    "# Check test metrics\n",
    "print (sklearn.metrics.confusion_matrix(ds2_test_Y, ds2_test_Y_predict)) # confusion matrix\n",
    "print ('\\n')\n",
    "print (sklearn.metrics.classification_report(ds2_test_Y, ds2_test_Y_predict, target_names=ds2_labels)) # precision, recall, f1-measure (macro and weighted average) and accuracy\n",
    "\n",
    "# Write test results to output file GNB-DS2.csv\n",
    "create_output_file(ds2_test_Y, ds2_test_Y_predict, ds2_labels, 'GNB-DS2')"
   ]
  },
  {
   "cell_type": "code",
   "execution_count": null,
   "metadata": {},
   "outputs": [],
   "source": []
  }
 ]
}