{
 "cells": [
  {
   "cell_type": "code",
   "execution_count": 1,
   "metadata": {},
   "outputs": [],
   "source": [
    "import numpy as np\n",
    "import matplotlib.pyplot as plt\n",
    "import sklearn\n",
    "from sklearn.neural_network import MLPClassifier as mlp\n",
    "import sklearn.metrics\n",
    "from sklearn.model_selection import GridSearchCV"
   ]
  },
  {
   "cell_type": "code",
   "execution_count": 2,
   "metadata": {},
   "outputs": [],
   "source": [
    "# Define useful functions\n",
    "def create_output_file(y_actual, y_predicted, labels, filename):\n",
    "    '''\n",
    "    Function for creating the ouput file as specified in the assignment instructions:\n",
    "    a) instance number and predicted label (number)\n",
    "    b) Confusion matrix\n",
    "    c) Precision, recall and f1-measure of each class\n",
    "    d) Accuracy, macro-average f1 and weighted-average f1 score of the model\n",
    "\n",
    "    y_actual: numpy array of shape (N,) containing the actual class of each test instance\n",
    "    y_predicted: numpy array of shape (N,) containing the class of each test instance predicted by the model\n",
    "    labels: 1D numpy array containing the class labels of the dataset\n",
    "    filename: name of the output (.csv) file\n",
    "    '''\n",
    "\n",
    "    # Open file\n",
    "    output = open('A1-Output/' + filename + '.csv', 'w')\n",
    "\n",
    "    # a) Write y values of test data\n",
    "    output.write('instance,prediction\\n')\n",
    "    for i in range(y_predicted.shape[0]):\n",
    "        output.write(str(i+1) + ',' + str(y_predicted[i]) + '\\n')\n",
    "\n",
    "    output.write('\\n')\n",
    "\n",
    "    # b) Plot confusion matrix\n",
    "    output.write('confusion matrix\\n')\n",
    "    confusion_matrix = sklearn.metrics.confusion_matrix(y_actual, y_predicted)\n",
    "    (m, n) = confusion_matrix.shape\n",
    "    for i in range(m):\n",
    "        for j in range(n):\n",
    "            if j < n-1:\n",
    "                output.write(str(confusion_matrix[i,j]) + ',')\n",
    "            else:\n",
    "                output.write(str(confusion_matrix[i,j]))\n",
    "        output.write('\\n')\n",
    "\n",
    "    output.write('\\n')\n",
    "\n",
    "    # c) Write precision, recall and f1-measure of each class (rounded to 2 decimals)\n",
    "    output.write('precision,recall,f1-measure\\n')\n",
    "    precision = sklearn.metrics.precision_score(y_actual, y_predicted, average=None)\n",
    "    recall = sklearn.metrics.recall_score(y_actual, y_predicted, average=None)\n",
    "    f1 = sklearn.metrics.f1_score(y_actual, y_predicted, average=None)\n",
    "\n",
    "    for i in range(labels.shape[0]):\n",
    "        #output.write(str(precision[i]) + ',' + str(recall[i]) + ',' + str(f1[i]) + '\\n')\n",
    "        output.write('{:.2f},{:.2f},{:.2f}\\n'.format(precision[i], recall[i], f1[i]))\n",
    "\n",
    "    output.write('\\n')\n",
    "\n",
    "    # Write accuracy, macro-average f1 and weighted-average f1 of the model (rounded to 2 decimals)\n",
    "    output.write('accuracy,macro-average f-1,weighted-average f1\\n') \n",
    "    accuracy = sklearn.metrics.accuracy_score(y_actual, y_predicted)\n",
    "    macro_avg_f1 = sklearn.metrics.f1_score(y_actual, y_predicted, average='macro')\n",
    "    weighted_avg_f1 = sklearn.metrics.f1_score(y_actual, y_predicted, average='weighted')\n",
    "    #output.write(str(accuracy) + ',' + str(macro_avg_f1) + ',' + str(weighted_avg_f1))\n",
    "    output.write('{:.2f},{:.2f},{:.2f}\\n'.format(accuracy, macro_avg_f1, weighted_avg_f1))\n",
    "\n",
    "    # Close output file\n",
    "    output.close()\n",
    "\n",
    "def load_dataset(filename, nb_pixels=32**2):\n",
    "    '''\n",
    "    Function for loading the X and Y data of the passed csv file\n",
    "\n",
    "    filename: name of the file containing the dataset (ex: train_1)\n",
    "\n",
    "    Return: \n",
    "    X: 2D numpy array containing the value of the features of each instance\n",
    "    Y: 1D numpy array containing the true class of each instance \n",
    "    '''\n",
    "    data = np.loadtxt('Assig1-Dataset/' + filename + '.csv', delimiter=',', dtype=np.int32)\n",
    "    return data[:, :nb_pixels], data[:, nb_pixels]\n"
   ]
  },
  {
   "cell_type": "code",
   "execution_count": 3,
   "metadata": {},
   "outputs": [],
   "source": [
    "#Loading training and validation data for both datasets\n",
    "#dataset 1\n",
    "ds1_labels = np.loadtxt('Assig1-Dataset/info_1.csv', skiprows=1, usecols=1, delimiter=',', dtype=np.str)\n",
    "\n",
    "ds1_training_X, ds1_training_Y = load_dataset('train_1')\n",
    "ds1_val_X, ds1_val_Y = load_dataset('val_1')\n",
    "\n",
    "#dataset 2\n",
    "ds2_labels = np.loadtxt('Assig1-Dataset/info_2.csv', skiprows=1, usecols=1, delimiter=',', dtype=np.str)\n",
    "\n",
    "ds2_training_X, ds2_training_Y = load_dataset('train_2')\n",
    "ds2_val_X, ds2_val_Y = load_dataset('val_2')"
   ]
  },
  {
   "cell_type": "code",
   "execution_count": null,
   "metadata": {},
   "outputs": [],
   "source": [
    "#Gridsearch for best parameters for dataset 1\n",
    "best_mlp = mlp(max_iter=3500)\n",
    "parameters = {'hidden_layer_sizes':[(1500,100), (50,50), (50,30,50)], 'activation': ['identity', 'relu','tanh','logistic'], 'solver':['adam', 'sgd']}\n",
    "clf = GridSearchCV(best_mlp, parameters)\n",
    "clf.fit(ds1_training_X, ds1_training_Y)\n",
    "print('Best parameters found:\\n', clf.best_params_)"
   ]
  },
  {
   "cell_type": "code",
   "execution_count": 6,
   "metadata": {},
   "outputs": [
    {
     "name": "stderr",
     "output_type": "stream",
     "text": [
      "/Users/inesgonzalezpepe/opt/anaconda3/lib/python3.8/site-packages/sklearn/neural_network/_multilayer_perceptron.py:587: UserWarning: Training interrupted by user.\n",
      "  warnings.warn(\"Training interrupted by user.\")\n"
     ]
    }
   ],
   "source": [
    "#Training Best-MLP model for dataset 1\n",
    "bestMLP_ds1 = mlp(hidden_layer_sizes=(1500,100), activation='logistic',solver='adam', max_iter=4000).fit(ds1_training_X,ds1_training_Y)"
   ]
  },
  {
   "cell_type": "code",
   "execution_count": 15,
   "metadata": {},
   "outputs": [
    {
     "name": "stdout",
     "output_type": "stream",
     "text": [
      "[[ 8  0  0  0  0  0  0  0  0  0  0  0  0  1  0  0  1  0  0  0  0  0  0  0\n",
      "   0  0]\n",
      " [ 0  7  0  0  0  1  0  0  0  0  0  0  0  0  0  0  0  0  0  0  0  0  0  0\n",
      "   1  0]\n",
      " [ 0  0 10  0  0  0  0  0  0  0  0  0  0  0  0  0  0  0  0  0  0  0  0  0\n",
      "   0  0]\n",
      " [ 0  1  0  7  0  0  0  0  0  0  0  0  0  0  0  0  0  0  0  0  0  0  0  0\n",
      "   0  0]\n",
      " [ 0  0  0  0  6  2  0  0  0  0  0  0  0  0  0  0  0  0  0  0  0  0  0  0\n",
      "   0  0]\n",
      " [ 0  0  0  0  0  6  0  0  0  0  0  0  0  0  0  2  0  0  0  0  0  0  0  0\n",
      "   0  0]\n",
      " [ 0  0  0  0  0  0  8  0  0  0  0  0  0  0  1  0  1  0  0  0  0  0  0  0\n",
      "   0  0]\n",
      " [ 0  0  0  0  0  0  0  6  0  0  0  0  1  0  0  1  0  0  0  0  0  1  0  0\n",
      "   0  0]\n",
      " [ 0  0  0  0  0  0  0  0 10  0  0  0  0  0  0  0  0  0  0  0  0  0  0  0\n",
      "   0  0]\n",
      " [ 1  0  0  0  0  1  0  0  0  8  0  0  0  0  0  0  0  0  0  0  0  0  0  0\n",
      "   0  0]\n",
      " [ 0  0  0  0  0  0  0  0  0  0 10  0  0  0  0  0  0  0  0  0  0  0  0  0\n",
      "   0  0]\n",
      " [ 0  0  0  0  0  0  0  0  0  0  0 10  0  0  0  0  0  0  0  0  0  0  0  0\n",
      "   0  0]\n",
      " [ 0  0  0  0  0  0  0  0  0  0  0  0  9  0  0  1  0  0  0  0  0  0  0  0\n",
      "   0  0]\n",
      " [ 0  0  0  1  0  0  0  0  0  0  0  0  1  6  0  0  1  0  0  0  0  1  0  0\n",
      "   0  0]\n",
      " [ 0  0  0  0  0  0  1  0  0  0  0  0  0  0  9  0  0  0  0  0  0  0  0  0\n",
      "   0  0]\n",
      " [ 0  0  0  0  0  0  0  0  0  0  0  0  0  0  0 10  0  0  0  0  0  0  0  0\n",
      "   0  0]\n",
      " [ 0  0  0  0  0  0  1  0  0  0  0  0  0  0  0  0  9  0  0  0  0  0  0  0\n",
      "   0  0]\n",
      " [ 0  0  0  0  0  0  0  0  0  0  0  0  0  0  0  0  0 10  0  0  0  0  0  0\n",
      "   0  0]\n",
      " [ 0  0  0  0  0  0  0  0  0  1  0  1  0  0  0  0  0  0  7  0  0  0  0  0\n",
      "   0  0]\n",
      " [ 0  0  0  0  0  1  0  0  0  0  0  0  0  0  0  1  0  0  0  6  0  0  0  0\n",
      "   0  0]\n",
      " [ 0  0  0  0  0  0  0  0  0  0  0  0  0  0  0  0  0  0  0  0  8  0  0  0\n",
      "   0  0]\n",
      " [ 0  0  0  0  0  0  0  0  0  0  0  0  0  3  0  0  0  0  0  0  0  5  0  0\n",
      "   0  0]\n",
      " [ 1  0  0  0  0  0  0  0  0  0  0  0  0  0  0  0  0  0  0  0  0  0  8  0\n",
      "   0  0]\n",
      " [ 0  0  0  0  0  0  0  0  0  0  0  0  0  0  0  0  0  0  0  0  0  0  0  8\n",
      "   0  0]\n",
      " [ 0  0  0  0  0  0  0  0  0  0  0  0  0  0  0  0  0  0  0  0  0  1  0  0\n",
      "   7  0]\n",
      " [ 0  0  0  0  0  0  0  0  0  0  0  0  0  0  0  0  0  0  0  0  0  0  0  0\n",
      "   0  9]]\n",
      "\n",
      "\n",
      "              precision    recall  f1-score   support\n",
      "\n",
      "           A       0.80      0.80      0.80        10\n",
      "           B       0.88      0.78      0.82         9\n",
      "           C       1.00      1.00      1.00        10\n",
      "           D       0.88      0.88      0.88         8\n",
      "           E       1.00      0.75      0.86         8\n",
      "           F       0.55      0.75      0.63         8\n",
      "           G       0.80      0.80      0.80        10\n",
      "           H       1.00      0.67      0.80         9\n",
      "           I       1.00      1.00      1.00        10\n",
      "           J       0.89      0.80      0.84        10\n",
      "           K       1.00      1.00      1.00        10\n",
      "           L       0.91      1.00      0.95        10\n",
      "           M       0.82      0.90      0.86        10\n",
      "           N       0.60      0.60      0.60        10\n",
      "           O       0.90      0.90      0.90        10\n",
      "           P       0.67      1.00      0.80        10\n",
      "           Q       0.75      0.90      0.82        10\n",
      "           R       1.00      1.00      1.00        10\n",
      "           S       1.00      0.78      0.88         9\n",
      "           T       1.00      0.75      0.86         8\n",
      "           U       1.00      1.00      1.00         8\n",
      "           V       0.62      0.62      0.62         8\n",
      "           W       1.00      0.89      0.94         9\n",
      "           X       1.00      1.00      1.00         8\n",
      "           Y       0.88      0.88      0.88         8\n",
      "           Z       1.00      1.00      1.00         9\n",
      "\n",
      "    accuracy                           0.87       239\n",
      "   macro avg       0.88      0.86      0.87       239\n",
      "weighted avg       0.88      0.87      0.87       239\n",
      "\n"
     ]
    }
   ],
   "source": [
    "#Training model for dataset 1\n",
    "ds1_val_Y_predict = bestMLP_ds1.predict(ds1_val_X)\n",
    "\n",
    "print (sklearn.metrics.confusion_matrix(ds1_val_Y, ds1_val_Y_predict))\n",
    "print ('\\n')\n",
    "print (sklearn.metrics.classification_report(ds1_val_Y, ds1_val_Y_predict, target_names=ds1_labels)) # precision, recall, f1-measure (macro and weighted) and accuracy"
   ]
  },
  {
   "cell_type": "code",
   "execution_count": 4,
   "metadata": {},
   "outputs": [
    {
     "name": "stdout",
     "output_type": "stream",
     "text": [
      "Fitting 5 folds for each of 24 candidates, totalling 120 fits\n",
      "[CV] activation=identity, hidden_layer_sizes=(1500, 100), solver=adam \n"
     ]
    },
    {
     "name": "stderr",
     "output_type": "stream",
     "text": [
      "[Parallel(n_jobs=1)]: Using backend SequentialBackend with 1 concurrent workers.\n"
     ]
    },
    {
     "name": "stdout",
     "output_type": "stream",
     "text": [
      "[CV]  activation=identity, hidden_layer_sizes=(1500, 100), solver=adam, score=0.817, total= 4.3min\n",
      "[CV] activation=identity, hidden_layer_sizes=(1500, 100), solver=adam \n"
     ]
    },
    {
     "name": "stderr",
     "output_type": "stream",
     "text": [
      "[Parallel(n_jobs=1)]: Done   1 out of   1 | elapsed:  4.4min remaining:    0.0s\n"
     ]
    },
    {
     "name": "stdout",
     "output_type": "stream",
     "text": [
      "[CV]  activation=identity, hidden_layer_sizes=(1500, 100), solver=adam, score=0.821, total= 2.4min\n",
      "[CV] activation=identity, hidden_layer_sizes=(1500, 100), solver=adam \n"
     ]
    },
    {
     "name": "stderr",
     "output_type": "stream",
     "text": [
      "[Parallel(n_jobs=1)]: Done   2 out of   2 | elapsed:  6.8min remaining:    0.0s\n"
     ]
    },
    {
     "name": "stdout",
     "output_type": "stream",
     "text": [
      "[CV]  activation=identity, hidden_layer_sizes=(1500, 100), solver=adam, score=0.823, total= 1.8min\n",
      "[CV] activation=identity, hidden_layer_sizes=(1500, 100), solver=adam \n"
     ]
    },
    {
     "name": "stderr",
     "output_type": "stream",
     "text": [
      "[Parallel(n_jobs=1)]: Done   3 out of   3 | elapsed:  8.6min remaining:    0.0s\n"
     ]
    },
    {
     "name": "stdout",
     "output_type": "stream",
     "text": [
      "[CV]  activation=identity, hidden_layer_sizes=(1500, 100), solver=adam, score=0.838, total= 5.2min\n",
      "[CV] activation=identity, hidden_layer_sizes=(1500, 100), solver=adam \n"
     ]
    },
    {
     "name": "stderr",
     "output_type": "stream",
     "text": [
      "[Parallel(n_jobs=1)]: Done   4 out of   4 | elapsed: 13.8min remaining:    0.0s\n"
     ]
    },
    {
     "name": "stdout",
     "output_type": "stream",
     "text": [
      "[CV]  activation=identity, hidden_layer_sizes=(1500, 100), solver=adam, score=0.833, total= 3.1min\n",
      "[CV] activation=identity, hidden_layer_sizes=(1500, 100), solver=sgd .\n",
      "[CV]  activation=identity, hidden_layer_sizes=(1500, 100), solver=sgd, score=0.828, total=25.3min\n",
      "[CV] activation=identity, hidden_layer_sizes=(1500, 100), solver=sgd .\n",
      "[CV]  activation=identity, hidden_layer_sizes=(1500, 100), solver=sgd, score=0.829, total=22.4min\n",
      "[CV] activation=identity, hidden_layer_sizes=(1500, 100), solver=sgd .\n",
      "[CV]  activation=identity, hidden_layer_sizes=(1500, 100), solver=sgd, score=0.819, total=23.3min\n",
      "[CV] activation=identity, hidden_layer_sizes=(1500, 100), solver=sgd .\n",
      "[CV]  activation=identity, hidden_layer_sizes=(1500, 100), solver=sgd, score=0.829, total=30.0min\n",
      "[CV] activation=identity, hidden_layer_sizes=(1500, 100), solver=sgd .\n",
      "[CV]  activation=identity, hidden_layer_sizes=(1500, 100), solver=sgd, score=0.814, total=35.2min\n",
      "[CV] activation=identity, hidden_layer_sizes=(50, 50), solver=adam ...\n",
      "[CV]  activation=identity, hidden_layer_sizes=(50, 50), solver=adam, score=0.828, total=  25.4s\n",
      "[CV] activation=identity, hidden_layer_sizes=(50, 50), solver=adam ...\n",
      "[CV]  activation=identity, hidden_layer_sizes=(50, 50), solver=adam, score=0.824, total=  19.1s\n",
      "[CV] activation=identity, hidden_layer_sizes=(50, 50), solver=adam ...\n",
      "[CV]  activation=identity, hidden_layer_sizes=(50, 50), solver=adam, score=0.819, total=  23.8s\n",
      "[CV] activation=identity, hidden_layer_sizes=(50, 50), solver=adam ...\n",
      "[CV]  activation=identity, hidden_layer_sizes=(50, 50), solver=adam, score=0.837, total=  30.5s\n",
      "[CV] activation=identity, hidden_layer_sizes=(50, 50), solver=adam ...\n",
      "[CV]  activation=identity, hidden_layer_sizes=(50, 50), solver=adam, score=0.826, total=  33.1s\n",
      "[CV] activation=identity, hidden_layer_sizes=(50, 50), solver=sgd ....\n",
      "[CV]  activation=identity, hidden_layer_sizes=(50, 50), solver=sgd, score=0.822, total= 2.4min\n",
      "[CV] activation=identity, hidden_layer_sizes=(50, 50), solver=sgd ....\n",
      "[CV]  activation=identity, hidden_layer_sizes=(50, 50), solver=sgd, score=0.828, total=14.1min\n",
      "[CV] activation=identity, hidden_layer_sizes=(50, 50), solver=sgd ....\n",
      "[CV]  activation=identity, hidden_layer_sizes=(50, 50), solver=sgd, score=0.823, total= 3.0min\n",
      "[CV] activation=identity, hidden_layer_sizes=(50, 50), solver=sgd ....\n",
      "[CV]  activation=identity, hidden_layer_sizes=(50, 50), solver=sgd, score=0.826, total= 4.0min\n",
      "[CV] activation=identity, hidden_layer_sizes=(50, 50), solver=sgd ....\n",
      "[CV]  activation=identity, hidden_layer_sizes=(50, 50), solver=sgd, score=0.811, total= 3.8min\n",
      "[CV] activation=identity, hidden_layer_sizes=(50, 30, 50), solver=adam \n",
      "[CV]  activation=identity, hidden_layer_sizes=(50, 30, 50), solver=adam, score=0.826, total=  34.1s\n",
      "[CV] activation=identity, hidden_layer_sizes=(50, 30, 50), solver=adam \n",
      "[CV]  activation=identity, hidden_layer_sizes=(50, 30, 50), solver=adam, score=0.823, total=  21.0s\n",
      "[CV] activation=identity, hidden_layer_sizes=(50, 30, 50), solver=adam \n",
      "[CV]  activation=identity, hidden_layer_sizes=(50, 30, 50), solver=adam, score=0.828, total=  25.0s\n",
      "[CV] activation=identity, hidden_layer_sizes=(50, 30, 50), solver=adam \n",
      "[CV]  activation=identity, hidden_layer_sizes=(50, 30, 50), solver=adam, score=0.823, total=  31.7s\n",
      "[CV] activation=identity, hidden_layer_sizes=(50, 30, 50), solver=adam \n",
      "[CV]  activation=identity, hidden_layer_sizes=(50, 30, 50), solver=adam, score=0.819, total=  34.3s\n",
      "[CV] activation=identity, hidden_layer_sizes=(50, 30, 50), solver=sgd \n",
      "[CV]  activation=identity, hidden_layer_sizes=(50, 30, 50), solver=sgd, score=0.818, total= 1.6min\n",
      "[CV] activation=identity, hidden_layer_sizes=(50, 30, 50), solver=sgd \n",
      "[CV]  activation=identity, hidden_layer_sizes=(50, 30, 50), solver=sgd, score=0.824, total= 1.4min\n",
      "[CV] activation=identity, hidden_layer_sizes=(50, 30, 50), solver=sgd \n",
      "[CV]  activation=identity, hidden_layer_sizes=(50, 30, 50), solver=sgd, score=0.815, total= 1.5min\n",
      "[CV] activation=identity, hidden_layer_sizes=(50, 30, 50), solver=sgd \n",
      "[CV]  activation=identity, hidden_layer_sizes=(50, 30, 50), solver=sgd, score=0.828, total= 1.4min\n",
      "[CV] activation=identity, hidden_layer_sizes=(50, 30, 50), solver=sgd \n",
      "[CV]  activation=identity, hidden_layer_sizes=(50, 30, 50), solver=sgd, score=0.805, total= 1.2min\n",
      "[CV] activation=relu, hidden_layer_sizes=(1500, 100), solver=adam ....\n",
      "[CV]  activation=relu, hidden_layer_sizes=(1500, 100), solver=adam, score=0.903, total=24.3min\n",
      "[CV] activation=relu, hidden_layer_sizes=(1500, 100), solver=adam ....\n",
      "[CV]  activation=relu, hidden_layer_sizes=(1500, 100), solver=adam, score=0.894, total= 6.3min\n",
      "[CV] activation=relu, hidden_layer_sizes=(1500, 100), solver=adam ....\n",
      "[CV]  activation=relu, hidden_layer_sizes=(1500, 100), solver=adam, score=0.910, total= 5.6min\n",
      "[CV] activation=relu, hidden_layer_sizes=(1500, 100), solver=adam ....\n",
      "[CV]  activation=relu, hidden_layer_sizes=(1500, 100), solver=adam, score=0.900, total= 6.3min\n",
      "[CV] activation=relu, hidden_layer_sizes=(1500, 100), solver=adam ....\n",
      "[CV]  activation=relu, hidden_layer_sizes=(1500, 100), solver=adam, score=0.896, total= 7.0min\n",
      "[CV] activation=relu, hidden_layer_sizes=(1500, 100), solver=sgd .....\n",
      "[CV]  activation=relu, hidden_layer_sizes=(1500, 100), solver=sgd, score=0.885, total=21.0min\n",
      "[CV] activation=relu, hidden_layer_sizes=(1500, 100), solver=sgd .....\n",
      "[CV]  activation=relu, hidden_layer_sizes=(1500, 100), solver=sgd, score=0.881, total=20.3min\n",
      "[CV] activation=relu, hidden_layer_sizes=(1500, 100), solver=sgd .....\n",
      "[CV]  activation=relu, hidden_layer_sizes=(1500, 100), solver=sgd, score=0.888, total=20.4min\n",
      "[CV] activation=relu, hidden_layer_sizes=(1500, 100), solver=sgd .....\n",
      "[CV]  activation=relu, hidden_layer_sizes=(1500, 100), solver=sgd, score=0.883, total=19.1min\n",
      "[CV] activation=relu, hidden_layer_sizes=(1500, 100), solver=sgd .....\n",
      "[CV]  activation=relu, hidden_layer_sizes=(1500, 100), solver=sgd, score=0.882, total=47.9min\n",
      "[CV] activation=relu, hidden_layer_sizes=(50, 50), solver=adam .......\n",
      "[CV]  activation=relu, hidden_layer_sizes=(50, 50), solver=adam, score=0.879, total=  41.7s\n",
      "[CV] activation=relu, hidden_layer_sizes=(50, 50), solver=adam .......\n",
      "[CV]  activation=relu, hidden_layer_sizes=(50, 50), solver=adam, score=0.867, total=  43.6s\n",
      "[CV] activation=relu, hidden_layer_sizes=(50, 50), solver=adam .......\n",
      "[CV]  activation=relu, hidden_layer_sizes=(50, 50), solver=adam, score=0.865, total=  54.9s\n",
      "[CV] activation=relu, hidden_layer_sizes=(50, 50), solver=adam .......\n",
      "[CV]  activation=relu, hidden_layer_sizes=(50, 50), solver=adam, score=0.879, total=  46.9s\n",
      "[CV] activation=relu, hidden_layer_sizes=(50, 50), solver=adam .......\n",
      "[CV]  activation=relu, hidden_layer_sizes=(50, 50), solver=adam, score=0.852, total= 1.2min\n",
      "[CV] activation=relu, hidden_layer_sizes=(50, 50), solver=sgd ........\n",
      "[CV]  activation=relu, hidden_layer_sizes=(50, 50), solver=sgd, score=0.868, total= 4.1min\n",
      "[CV] activation=relu, hidden_layer_sizes=(50, 50), solver=sgd ........\n",
      "[CV]  activation=relu, hidden_layer_sizes=(50, 50), solver=sgd, score=0.862, total= 3.7min\n",
      "[CV] activation=relu, hidden_layer_sizes=(50, 50), solver=sgd ........\n",
      "[CV]  activation=relu, hidden_layer_sizes=(50, 50), solver=sgd, score=0.868, total= 3.5min\n",
      "[CV] activation=relu, hidden_layer_sizes=(50, 50), solver=sgd ........\n",
      "[CV]  activation=relu, hidden_layer_sizes=(50, 50), solver=sgd, score=0.871, total= 4.7min\n",
      "[CV] activation=relu, hidden_layer_sizes=(50, 50), solver=sgd ........\n",
      "[CV]  activation=relu, hidden_layer_sizes=(50, 50), solver=sgd, score=0.853, total= 4.4min\n",
      "[CV] activation=relu, hidden_layer_sizes=(50, 30, 50), solver=adam ...\n",
      "[CV]  activation=relu, hidden_layer_sizes=(50, 30, 50), solver=adam, score=0.872, total= 1.0min\n",
      "[CV] activation=relu, hidden_layer_sizes=(50, 30, 50), solver=adam ...\n",
      "[CV]  activation=relu, hidden_layer_sizes=(50, 30, 50), solver=adam, score=0.863, total= 1.3min\n",
      "[CV] activation=relu, hidden_layer_sizes=(50, 30, 50), solver=adam ...\n",
      "[CV]  activation=relu, hidden_layer_sizes=(50, 30, 50), solver=adam, score=0.872, total= 1.3min\n",
      "[CV] activation=relu, hidden_layer_sizes=(50, 30, 50), solver=adam ...\n",
      "[CV]  activation=relu, hidden_layer_sizes=(50, 30, 50), solver=adam, score=0.876, total= 1.3min\n",
      "[CV] activation=relu, hidden_layer_sizes=(50, 30, 50), solver=adam ...\n"
     ]
    },
    {
     "name": "stdout",
     "output_type": "stream",
     "text": [
      "[CV]  activation=relu, hidden_layer_sizes=(50, 30, 50), solver=adam, score=0.867, total= 1.2min\n",
      "[CV] activation=relu, hidden_layer_sizes=(50, 30, 50), solver=sgd ....\n",
      "[CV]  activation=relu, hidden_layer_sizes=(50, 30, 50), solver=sgd, score=0.862, total= 3.1min\n",
      "[CV] activation=relu, hidden_layer_sizes=(50, 30, 50), solver=sgd ....\n",
      "[CV]  activation=relu, hidden_layer_sizes=(50, 30, 50), solver=sgd, score=0.857, total= 3.7min\n",
      "[CV] activation=relu, hidden_layer_sizes=(50, 30, 50), solver=sgd ....\n",
      "[CV]  activation=relu, hidden_layer_sizes=(50, 30, 50), solver=sgd, score=0.860, total= 2.9min\n",
      "[CV] activation=relu, hidden_layer_sizes=(50, 30, 50), solver=sgd ....\n",
      "[CV]  activation=relu, hidden_layer_sizes=(50, 30, 50), solver=sgd, score=0.865, total= 3.3min\n",
      "[CV] activation=relu, hidden_layer_sizes=(50, 30, 50), solver=sgd ....\n",
      "[CV]  activation=relu, hidden_layer_sizes=(50, 30, 50), solver=sgd, score=0.851, total= 3.0min\n",
      "[CV] activation=tanh, hidden_layer_sizes=(1500, 100), solver=adam ....\n",
      "[CV]  activation=tanh, hidden_layer_sizes=(1500, 100), solver=adam, score=0.909, total= 8.9min\n",
      "[CV] activation=tanh, hidden_layer_sizes=(1500, 100), solver=adam ....\n",
      "[CV]  activation=tanh, hidden_layer_sizes=(1500, 100), solver=adam, score=0.912, total=11.5min\n",
      "[CV] activation=tanh, hidden_layer_sizes=(1500, 100), solver=adam ....\n",
      "[CV]  activation=tanh, hidden_layer_sizes=(1500, 100), solver=adam, score=0.904, total=11.9min\n",
      "[CV] activation=tanh, hidden_layer_sizes=(1500, 100), solver=adam ....\n",
      "[CV]  activation=tanh, hidden_layer_sizes=(1500, 100), solver=adam, score=0.907, total= 6.2min\n",
      "[CV] activation=tanh, hidden_layer_sizes=(1500, 100), solver=adam ....\n",
      "[CV]  activation=tanh, hidden_layer_sizes=(1500, 100), solver=adam, score=0.910, total=26.0min\n",
      "[CV] activation=tanh, hidden_layer_sizes=(1500, 100), solver=sgd .....\n",
      "[CV]  activation=tanh, hidden_layer_sizes=(1500, 100), solver=sgd, score=0.890, total=25.1min\n",
      "[CV] activation=tanh, hidden_layer_sizes=(1500, 100), solver=sgd .....\n",
      "[CV]  activation=tanh, hidden_layer_sizes=(1500, 100), solver=sgd, score=0.877, total=25.4min\n",
      "[CV] activation=tanh, hidden_layer_sizes=(1500, 100), solver=sgd .....\n",
      "[CV]  activation=tanh, hidden_layer_sizes=(1500, 100), solver=sgd, score=0.879, total=25.0min\n",
      "[CV] activation=tanh, hidden_layer_sizes=(1500, 100), solver=sgd .....\n",
      "[CV]  activation=tanh, hidden_layer_sizes=(1500, 100), solver=sgd, score=0.883, total=47.3min\n",
      "[CV] activation=tanh, hidden_layer_sizes=(1500, 100), solver=sgd .....\n",
      "[CV]  activation=tanh, hidden_layer_sizes=(1500, 100), solver=sgd, score=0.878, total=25.9min\n",
      "[CV] activation=tanh, hidden_layer_sizes=(50, 50), solver=adam .......\n",
      "[CV]  activation=tanh, hidden_layer_sizes=(50, 50), solver=adam, score=0.886, total=  25.1s\n",
      "[CV] activation=tanh, hidden_layer_sizes=(50, 50), solver=adam .......\n",
      "[CV]  activation=tanh, hidden_layer_sizes=(50, 50), solver=adam, score=0.877, total=  28.3s\n",
      "[CV] activation=tanh, hidden_layer_sizes=(50, 50), solver=adam .......\n",
      "[CV]  activation=tanh, hidden_layer_sizes=(50, 50), solver=adam, score=0.880, total=  28.1s\n",
      "[CV] activation=tanh, hidden_layer_sizes=(50, 50), solver=adam .......\n",
      "[CV]  activation=tanh, hidden_layer_sizes=(50, 50), solver=adam, score=0.890, total=  26.3s\n",
      "[CV] activation=tanh, hidden_layer_sizes=(50, 50), solver=adam .......\n",
      "[CV]  activation=tanh, hidden_layer_sizes=(50, 50), solver=adam, score=0.873, total=  27.5s\n",
      "[CV] activation=tanh, hidden_layer_sizes=(50, 50), solver=sgd ........\n",
      "[CV]  activation=tanh, hidden_layer_sizes=(50, 50), solver=sgd, score=0.885, total= 1.7min\n",
      "[CV] activation=tanh, hidden_layer_sizes=(50, 50), solver=sgd ........\n",
      "[CV]  activation=tanh, hidden_layer_sizes=(50, 50), solver=sgd, score=0.876, total= 2.0min\n",
      "[CV] activation=tanh, hidden_layer_sizes=(50, 50), solver=sgd ........\n",
      "[CV]  activation=tanh, hidden_layer_sizes=(50, 50), solver=sgd, score=0.878, total= 1.6min\n",
      "[CV] activation=tanh, hidden_layer_sizes=(50, 50), solver=sgd ........\n",
      "[CV]  activation=tanh, hidden_layer_sizes=(50, 50), solver=sgd, score=0.879, total= 1.9min\n",
      "[CV] activation=tanh, hidden_layer_sizes=(50, 50), solver=sgd ........\n",
      "[CV]  activation=tanh, hidden_layer_sizes=(50, 50), solver=sgd, score=0.883, total= 1.7min\n",
      "[CV] activation=tanh, hidden_layer_sizes=(50, 30, 50), solver=adam ...\n",
      "[CV]  activation=tanh, hidden_layer_sizes=(50, 30, 50), solver=adam, score=0.883, total=  24.5s\n",
      "[CV] activation=tanh, hidden_layer_sizes=(50, 30, 50), solver=adam ...\n",
      "[CV]  activation=tanh, hidden_layer_sizes=(50, 30, 50), solver=adam, score=0.875, total=  16.3s\n",
      "[CV] activation=tanh, hidden_layer_sizes=(50, 30, 50), solver=adam ...\n",
      "[CV]  activation=tanh, hidden_layer_sizes=(50, 30, 50), solver=adam, score=0.876, total=  23.1s\n",
      "[CV] activation=tanh, hidden_layer_sizes=(50, 30, 50), solver=adam ...\n",
      "[CV]  activation=tanh, hidden_layer_sizes=(50, 30, 50), solver=adam, score=0.872, total=  25.6s\n",
      "[CV] activation=tanh, hidden_layer_sizes=(50, 30, 50), solver=adam ...\n",
      "[CV]  activation=tanh, hidden_layer_sizes=(50, 30, 50), solver=adam, score=0.894, total=  21.9s\n",
      "[CV] activation=tanh, hidden_layer_sizes=(50, 30, 50), solver=sgd ....\n",
      "[CV]  activation=tanh, hidden_layer_sizes=(50, 30, 50), solver=sgd, score=0.871, total= 1.4min\n",
      "[CV] activation=tanh, hidden_layer_sizes=(50, 30, 50), solver=sgd ....\n",
      "[CV]  activation=tanh, hidden_layer_sizes=(50, 30, 50), solver=sgd, score=0.878, total= 1.5min\n",
      "[CV] activation=tanh, hidden_layer_sizes=(50, 30, 50), solver=sgd ....\n",
      "[CV]  activation=tanh, hidden_layer_sizes=(50, 30, 50), solver=sgd, score=0.879, total= 1.5min\n",
      "[CV] activation=tanh, hidden_layer_sizes=(50, 30, 50), solver=sgd ....\n",
      "[CV]  activation=tanh, hidden_layer_sizes=(50, 30, 50), solver=sgd, score=0.879, total= 1.5min\n",
      "[CV] activation=tanh, hidden_layer_sizes=(50, 30, 50), solver=sgd ....\n",
      "[CV]  activation=tanh, hidden_layer_sizes=(50, 30, 50), solver=sgd, score=0.876, total= 1.7min\n",
      "[CV] activation=logistic, hidden_layer_sizes=(1500, 100), solver=adam \n",
      "[CV]  activation=logistic, hidden_layer_sizes=(1500, 100), solver=adam, score=0.915, total= 6.8min\n",
      "[CV] activation=logistic, hidden_layer_sizes=(1500, 100), solver=adam \n",
      "[CV]  activation=logistic, hidden_layer_sizes=(1500, 100), solver=adam, score=0.903, total= 6.0min\n",
      "[CV] activation=logistic, hidden_layer_sizes=(1500, 100), solver=adam \n",
      "[CV]  activation=logistic, hidden_layer_sizes=(1500, 100), solver=adam, score=0.907, total= 7.1min\n",
      "[CV] activation=logistic, hidden_layer_sizes=(1500, 100), solver=adam \n",
      "[CV]  activation=logistic, hidden_layer_sizes=(1500, 100), solver=adam, score=0.914, total= 6.9min\n",
      "[CV] activation=logistic, hidden_layer_sizes=(1500, 100), solver=adam \n",
      "[CV]  activation=logistic, hidden_layer_sizes=(1500, 100), solver=adam, score=0.909, total= 6.4min\n",
      "[CV] activation=logistic, hidden_layer_sizes=(1500, 100), solver=sgd .\n",
      "[CV]  activation=logistic, hidden_layer_sizes=(1500, 100), solver=sgd, score=0.851, total=680.9min\n",
      "[CV] activation=logistic, hidden_layer_sizes=(1500, 100), solver=sgd .\n",
      "[CV]  activation=logistic, hidden_layer_sizes=(1500, 100), solver=sgd, score=0.854, total=121.4min\n",
      "[CV] activation=logistic, hidden_layer_sizes=(1500, 100), solver=sgd .\n"
     ]
    },
    {
     "name": "stderr",
     "output_type": "stream",
     "text": [
      "/Users/inesgonzalezpepe/opt/anaconda3/lib/python3.8/site-packages/sklearn/neural_network/_multilayer_perceptron.py:582: ConvergenceWarning: Stochastic Optimizer: Maximum iterations (3500) reached and the optimization hasn't converged yet.\n",
      "  warnings.warn(\n"
     ]
    },
    {
     "name": "stdout",
     "output_type": "stream",
     "text": [
      "[CV]  activation=logistic, hidden_layer_sizes=(1500, 100), solver=sgd, score=0.840, total=161.7min\n",
      "[CV] activation=logistic, hidden_layer_sizes=(1500, 100), solver=sgd .\n",
      "[CV]  activation=logistic, hidden_layer_sizes=(1500, 100), solver=sgd, score=0.851, total=239.0min\n",
      "[CV] activation=logistic, hidden_layer_sizes=(1500, 100), solver=sgd .\n"
     ]
    },
    {
     "name": "stderr",
     "output_type": "stream",
     "text": [
      "/Users/inesgonzalezpepe/opt/anaconda3/lib/python3.8/site-packages/sklearn/neural_network/_multilayer_perceptron.py:587: UserWarning: Training interrupted by user.\n",
      "  warnings.warn(\"Training interrupted by user.\")\n"
     ]
    },
    {
     "name": "stdout",
     "output_type": "stream",
     "text": [
      "[CV]  activation=logistic, hidden_layer_sizes=(1500, 100), solver=sgd, score=0.858, total=161.9min\n",
      "[CV] activation=logistic, hidden_layer_sizes=(50, 50), solver=adam ...\n"
     ]
    },
    {
     "name": "stderr",
     "output_type": "stream",
     "text": [
      "/Users/inesgonzalezpepe/opt/anaconda3/lib/python3.8/site-packages/sklearn/neural_network/_multilayer_perceptron.py:587: UserWarning: Training interrupted by user.\n",
      "  warnings.warn(\"Training interrupted by user.\")\n"
     ]
    },
    {
     "name": "stdout",
     "output_type": "stream",
     "text": [
      "[CV]  activation=logistic, hidden_layer_sizes=(50, 50), solver=adam, score=0.878, total=  52.4s\n",
      "[CV] activation=logistic, hidden_layer_sizes=(50, 50), solver=adam ...\n"
     ]
    },
    {
     "name": "stderr",
     "output_type": "stream",
     "text": [
      "/Users/inesgonzalezpepe/opt/anaconda3/lib/python3.8/site-packages/sklearn/neural_network/_multilayer_perceptron.py:587: UserWarning: Training interrupted by user.\n",
      "  warnings.warn(\"Training interrupted by user.\")\n"
     ]
    },
    {
     "name": "stdout",
     "output_type": "stream",
     "text": [
      "[CV]  activation=logistic, hidden_layer_sizes=(50, 50), solver=adam, score=0.866, total=  26.1s\n",
      "[CV] activation=logistic, hidden_layer_sizes=(50, 50), solver=adam ...\n"
     ]
    },
    {
     "name": "stderr",
     "output_type": "stream",
     "text": [
      "/Users/inesgonzalezpepe/opt/anaconda3/lib/python3.8/site-packages/sklearn/neural_network/_multilayer_perceptron.py:587: UserWarning: Training interrupted by user.\n",
      "  warnings.warn(\"Training interrupted by user.\")\n"
     ]
    },
    {
     "name": "stdout",
     "output_type": "stream",
     "text": [
      "[CV]  activation=logistic, hidden_layer_sizes=(50, 50), solver=adam, score=0.879, total= 1.3min\n",
      "[CV] activation=logistic, hidden_layer_sizes=(50, 50), solver=adam ...\n"
     ]
    },
    {
     "name": "stderr",
     "output_type": "stream",
     "text": [
      "/Users/inesgonzalezpepe/opt/anaconda3/lib/python3.8/site-packages/sklearn/neural_network/_multilayer_perceptron.py:587: UserWarning: Training interrupted by user.\n",
      "  warnings.warn(\"Training interrupted by user.\")\n"
     ]
    },
    {
     "name": "stdout",
     "output_type": "stream",
     "text": [
      "[CV]  activation=logistic, hidden_layer_sizes=(50, 50), solver=adam, score=0.883, total= 1.2min\n",
      "[CV] activation=logistic, hidden_layer_sizes=(50, 50), solver=adam ...\n"
     ]
    },
    {
     "name": "stderr",
     "output_type": "stream",
     "text": [
      "/Users/inesgonzalezpepe/opt/anaconda3/lib/python3.8/site-packages/sklearn/neural_network/_multilayer_perceptron.py:587: UserWarning: Training interrupted by user.\n",
      "  warnings.warn(\"Training interrupted by user.\")\n"
     ]
    },
    {
     "name": "stdout",
     "output_type": "stream",
     "text": [
      "[CV]  activation=logistic, hidden_layer_sizes=(50, 50), solver=adam, score=0.528, total=   5.4s\n",
      "[CV] activation=logistic, hidden_layer_sizes=(50, 50), solver=sgd ....\n"
     ]
    },
    {
     "name": "stderr",
     "output_type": "stream",
     "text": [
      "/Users/inesgonzalezpepe/opt/anaconda3/lib/python3.8/site-packages/sklearn/neural_network/_multilayer_perceptron.py:587: UserWarning: Training interrupted by user.\n",
      "  warnings.warn(\"Training interrupted by user.\")\n"
     ]
    },
    {
     "name": "stdout",
     "output_type": "stream",
     "text": [
      "[CV]  activation=logistic, hidden_layer_sizes=(50, 50), solver=sgd, score=0.239, total=   3.2s\n",
      "[CV] activation=logistic, hidden_layer_sizes=(50, 50), solver=sgd ....\n"
     ]
    },
    {
     "name": "stderr",
     "output_type": "stream",
     "text": [
      "/Users/inesgonzalezpepe/opt/anaconda3/lib/python3.8/site-packages/sklearn/neural_network/_multilayer_perceptron.py:587: UserWarning: Training interrupted by user.\n",
      "  warnings.warn(\"Training interrupted by user.\")\n"
     ]
    },
    {
     "name": "stdout",
     "output_type": "stream",
     "text": [
      "[CV]  activation=logistic, hidden_layer_sizes=(50, 50), solver=sgd, score=0.106, total=   1.0s\n",
      "[CV] activation=logistic, hidden_layer_sizes=(50, 50), solver=sgd ....\n"
     ]
    },
    {
     "name": "stderr",
     "output_type": "stream",
     "text": [
      "/Users/inesgonzalezpepe/opt/anaconda3/lib/python3.8/site-packages/sklearn/neural_network/_multilayer_perceptron.py:587: UserWarning: Training interrupted by user.\n",
      "  warnings.warn(\"Training interrupted by user.\")\n"
     ]
    },
    {
     "name": "stdout",
     "output_type": "stream",
     "text": [
      "[CV]  activation=logistic, hidden_layer_sizes=(50, 50), solver=sgd, score=0.256, total=   3.7s\n",
      "[CV] activation=logistic, hidden_layer_sizes=(50, 50), solver=sgd ....\n"
     ]
    },
    {
     "name": "stderr",
     "output_type": "stream",
     "text": [
      "/Users/inesgonzalezpepe/opt/anaconda3/lib/python3.8/site-packages/sklearn/neural_network/_multilayer_perceptron.py:587: UserWarning: Training interrupted by user.\n",
      "  warnings.warn(\"Training interrupted by user.\")\n"
     ]
    },
    {
     "name": "stdout",
     "output_type": "stream",
     "text": [
      "[CV]  activation=logistic, hidden_layer_sizes=(50, 50), solver=sgd, score=0.414, total=   3.9s\n",
      "[CV] activation=logistic, hidden_layer_sizes=(50, 50), solver=sgd ....\n"
     ]
    },
    {
     "name": "stderr",
     "output_type": "stream",
     "text": [
      "/Users/inesgonzalezpepe/opt/anaconda3/lib/python3.8/site-packages/sklearn/neural_network/_multilayer_perceptron.py:587: UserWarning: Training interrupted by user.\n",
      "  warnings.warn(\"Training interrupted by user.\")\n"
     ]
    },
    {
     "name": "stdout",
     "output_type": "stream",
     "text": [
      "[CV]  activation=logistic, hidden_layer_sizes=(50, 50), solver=sgd, score=0.240, total=   0.7s\n",
      "[CV] activation=logistic, hidden_layer_sizes=(50, 30, 50), solver=adam \n"
     ]
    },
    {
     "name": "stderr",
     "output_type": "stream",
     "text": [
      "/Users/inesgonzalezpepe/opt/anaconda3/lib/python3.8/site-packages/sklearn/neural_network/_multilayer_perceptron.py:587: UserWarning: Training interrupted by user.\n",
      "  warnings.warn(\"Training interrupted by user.\")\n"
     ]
    },
    {
     "name": "stdout",
     "output_type": "stream",
     "text": [
      "[CV]  activation=logistic, hidden_layer_sizes=(50, 30, 50), solver=adam, score=0.240, total=   0.7s\n",
      "[CV] activation=logistic, hidden_layer_sizes=(50, 30, 50), solver=adam \n"
     ]
    },
    {
     "name": "stderr",
     "output_type": "stream",
     "text": [
      "/Users/inesgonzalezpepe/opt/anaconda3/lib/python3.8/site-packages/sklearn/neural_network/_multilayer_perceptron.py:587: UserWarning: Training interrupted by user.\n",
      "  warnings.warn(\"Training interrupted by user.\")\n"
     ]
    },
    {
     "name": "stdout",
     "output_type": "stream",
     "text": [
      "[CV]  activation=logistic, hidden_layer_sizes=(50, 30, 50), solver=adam, score=0.476, total=   3.2s\n",
      "[CV] activation=logistic, hidden_layer_sizes=(50, 30, 50), solver=adam \n"
     ]
    },
    {
     "name": "stderr",
     "output_type": "stream",
     "text": [
      "/Users/inesgonzalezpepe/opt/anaconda3/lib/python3.8/site-packages/sklearn/neural_network/_multilayer_perceptron.py:587: UserWarning: Training interrupted by user.\n",
      "  warnings.warn(\"Training interrupted by user.\")\n"
     ]
    },
    {
     "name": "stdout",
     "output_type": "stream",
     "text": [
      "[CV]  activation=logistic, hidden_layer_sizes=(50, 30, 50), solver=adam, score=0.240, total=   0.4s\n",
      "[CV] activation=logistic, hidden_layer_sizes=(50, 30, 50), solver=adam \n"
     ]
    },
    {
     "name": "stderr",
     "output_type": "stream",
     "text": [
      "/Users/inesgonzalezpepe/opt/anaconda3/lib/python3.8/site-packages/sklearn/neural_network/_multilayer_perceptron.py:587: UserWarning: Training interrupted by user.\n",
      "  warnings.warn(\"Training interrupted by user.\")\n"
     ]
    },
    {
     "name": "stdout",
     "output_type": "stream",
     "text": [
      "[CV]  activation=logistic, hidden_layer_sizes=(50, 30, 50), solver=adam, score=0.475, total=   3.6s\n",
      "[CV] activation=logistic, hidden_layer_sizes=(50, 30, 50), solver=adam \n"
     ]
    },
    {
     "name": "stderr",
     "output_type": "stream",
     "text": [
      "/Users/inesgonzalezpepe/opt/anaconda3/lib/python3.8/site-packages/sklearn/neural_network/_multilayer_perceptron.py:587: UserWarning: Training interrupted by user.\n",
      "  warnings.warn(\"Training interrupted by user.\")\n"
     ]
    },
    {
     "name": "stdout",
     "output_type": "stream",
     "text": [
      "[CV]  activation=logistic, hidden_layer_sizes=(50, 30, 50), solver=adam, score=0.474, total=   4.2s\n",
      "[CV] activation=logistic, hidden_layer_sizes=(50, 30, 50), solver=sgd \n"
     ]
    },
    {
     "name": "stderr",
     "output_type": "stream",
     "text": [
      "/Users/inesgonzalezpepe/opt/anaconda3/lib/python3.8/site-packages/sklearn/neural_network/_multilayer_perceptron.py:587: UserWarning: Training interrupted by user.\n",
      "  warnings.warn(\"Training interrupted by user.\")\n"
     ]
    },
    {
     "name": "stdout",
     "output_type": "stream",
     "text": [
      "[CV]  activation=logistic, hidden_layer_sizes=(50, 30, 50), solver=sgd, score=0.240, total=   5.2s\n",
      "[CV] activation=logistic, hidden_layer_sizes=(50, 30, 50), solver=sgd \n"
     ]
    },
    {
     "name": "stderr",
     "output_type": "stream",
     "text": [
      "/Users/inesgonzalezpepe/opt/anaconda3/lib/python3.8/site-packages/sklearn/neural_network/_multilayer_perceptron.py:587: UserWarning: Training interrupted by user.\n",
      "  warnings.warn(\"Training interrupted by user.\")\n"
     ]
    },
    {
     "name": "stdout",
     "output_type": "stream",
     "text": [
      "[CV]  activation=logistic, hidden_layer_sizes=(50, 30, 50), solver=sgd, score=0.240, total=   3.1s\n",
      "[CV] activation=logistic, hidden_layer_sizes=(50, 30, 50), solver=sgd \n"
     ]
    },
    {
     "name": "stderr",
     "output_type": "stream",
     "text": [
      "/Users/inesgonzalezpepe/opt/anaconda3/lib/python3.8/site-packages/sklearn/neural_network/_multilayer_perceptron.py:587: UserWarning: Training interrupted by user.\n",
      "  warnings.warn(\"Training interrupted by user.\")\n"
     ]
    },
    {
     "name": "stdout",
     "output_type": "stream",
     "text": [
      "[CV]  activation=logistic, hidden_layer_sizes=(50, 30, 50), solver=sgd, score=0.048, total=   1.6s\n",
      "[CV] activation=logistic, hidden_layer_sizes=(50, 30, 50), solver=sgd \n"
     ]
    },
    {
     "name": "stderr",
     "output_type": "stream",
     "text": [
      "/Users/inesgonzalezpepe/opt/anaconda3/lib/python3.8/site-packages/sklearn/neural_network/_multilayer_perceptron.py:587: UserWarning: Training interrupted by user.\n",
      "  warnings.warn(\"Training interrupted by user.\")\n"
     ]
    },
    {
     "name": "stdout",
     "output_type": "stream",
     "text": [
      "[CV]  activation=logistic, hidden_layer_sizes=(50, 30, 50), solver=sgd, score=0.240, total=   2.2s\n",
      "[CV] activation=logistic, hidden_layer_sizes=(50, 30, 50), solver=sgd \n"
     ]
    },
    {
     "name": "stderr",
     "output_type": "stream",
     "text": [
      "/Users/inesgonzalezpepe/opt/anaconda3/lib/python3.8/site-packages/sklearn/neural_network/_multilayer_perceptron.py:587: UserWarning: Training interrupted by user.\n",
      "  warnings.warn(\"Training interrupted by user.\")\n",
      "[Parallel(n_jobs=1)]: Done 120 out of 120 | elapsed: 2053.2min finished\n"
     ]
    },
    {
     "name": "stdout",
     "output_type": "stream",
     "text": [
      "[CV]  activation=logistic, hidden_layer_sizes=(50, 30, 50), solver=sgd, score=0.240, total=   1.7s\n",
      "Best parameters found:\n",
      " {'activation': 'logistic', 'hidden_layer_sizes': (1500, 100), 'solver': 'adam'}\n"
     ]
    },
    {
     "name": "stderr",
     "output_type": "stream",
     "text": [
      "/Users/inesgonzalezpepe/opt/anaconda3/lib/python3.8/site-packages/sklearn/neural_network/_multilayer_perceptron.py:587: UserWarning: Training interrupted by user.\n",
      "  warnings.warn(\"Training interrupted by user.\")\n"
     ]
    }
   ],
   "source": [
    "#Gridsearch for best parameters for dataset 2\n",
    "best_mlp = mlp(max_iter=3500)\n",
    "parameters = {'hidden_layer_sizes':[(1500,100), (50,50), (50,30,50)], 'activation': ['identity', 'relu','tanh','logistic'], 'solver':['adam', 'sgd']}\n",
    "clf = GridSearchCV(best_mlp, parameters, verbose=5)\n",
    "clf.fit(ds2_training_X, ds2_training_Y)\n",
    "print('Best parameters found:\\n', clf.best_params_)"
   ]
  },
  {
   "cell_type": "code",
   "execution_count": 7,
   "metadata": {},
   "outputs": [],
   "source": [
    "#Training Best-MLP model for dataset 2\n",
    "bestMLP_ds2 = mlp(hidden_layer_sizes=(1500,100), activation='tanh',solver='adam', max_iter=4000).fit(ds2_training_X,ds2_training_Y)\n",
    "#activation=logistics and the same other parameters is equally good, but tanh is faster, hence why I chose it"
   ]
  },
  {
   "cell_type": "code",
   "execution_count": 5,
   "metadata": {},
   "outputs": [
    {
     "name": "stderr",
     "output_type": "stream",
     "text": [
      "ERROR:root:Internal Python error in the inspect module.\n",
      "Below is the traceback from this internal error.\n",
      "\n"
     ]
    },
    {
     "name": "stdout",
     "output_type": "stream",
     "text": [
      "Traceback (most recent call last):\n",
      "  File \"/Users/inesgonzalezpepe/opt/anaconda3/lib/python3.8/site-packages/IPython/core/interactiveshell.py\", line 3343, in run_code\n",
      "    exec(code_obj, self.user_global_ns, self.user_ns)\n",
      "  File \"<ipython-input-5-755e1f90baee>\", line 2, in <module>\n",
      "    ds2_val_Y_predict = bestMLP_ds2.predict(ds2_val_X)\n",
      "NameError: name 'bestMLP_ds2' is not defined\n",
      "\n",
      "During handling of the above exception, another exception occurred:\n",
      "\n",
      "Traceback (most recent call last):\n",
      "  File \"/Users/inesgonzalezpepe/opt/anaconda3/lib/python3.8/site-packages/IPython/core/interactiveshell.py\", line 2044, in showtraceback\n",
      "    stb = value._render_traceback_()\n",
      "AttributeError: 'NameError' object has no attribute '_render_traceback_'\n",
      "\n",
      "During handling of the above exception, another exception occurred:\n",
      "\n",
      "Traceback (most recent call last):\n",
      "  File \"/Users/inesgonzalezpepe/opt/anaconda3/lib/python3.8/site-packages/IPython/core/ultratb.py\", line 1169, in get_records\n",
      "    return _fixed_getinnerframes(etb, number_of_lines_of_context, tb_offset)\n",
      "  File \"/Users/inesgonzalezpepe/opt/anaconda3/lib/python3.8/site-packages/IPython/core/ultratb.py\", line 316, in wrapped\n",
      "    return f(*args, **kwargs)\n",
      "  File \"/Users/inesgonzalezpepe/opt/anaconda3/lib/python3.8/site-packages/IPython/core/ultratb.py\", line 350, in _fixed_getinnerframes\n",
      "    records = fix_frame_records_filenames(inspect.getinnerframes(etb, context))\n",
      "  File \"/Users/inesgonzalezpepe/opt/anaconda3/lib/python3.8/inspect.py\", line 1503, in getinnerframes\n",
      "    frameinfo = (tb.tb_frame,) + getframeinfo(tb, context)\n",
      "  File \"/Users/inesgonzalezpepe/opt/anaconda3/lib/python3.8/inspect.py\", line 1461, in getframeinfo\n",
      "    filename = getsourcefile(frame) or getfile(frame)\n",
      "  File \"/Users/inesgonzalezpepe/opt/anaconda3/lib/python3.8/inspect.py\", line 708, in getsourcefile\n",
      "    if getattr(getmodule(object, filename), '__loader__', None) is not None:\n",
      "  File \"/Users/inesgonzalezpepe/opt/anaconda3/lib/python3.8/inspect.py\", line 751, in getmodule\n",
      "    f = getabsfile(module)\n",
      "  File \"/Users/inesgonzalezpepe/opt/anaconda3/lib/python3.8/inspect.py\", line 720, in getabsfile\n",
      "    _filename = getsourcefile(object) or getfile(object)\n",
      "  File \"/Users/inesgonzalezpepe/opt/anaconda3/lib/python3.8/inspect.py\", line 705, in getsourcefile\n",
      "    if os.path.exists(filename):\n",
      "  File \"/Users/inesgonzalezpepe/opt/anaconda3/lib/python3.8/genericpath.py\", line 19, in exists\n",
      "    os.stat(path)\n",
      "KeyboardInterrupt\n"
     ]
    },
    {
     "ename": "TypeError",
     "evalue": "object of type 'NoneType' has no len()",
     "output_type": "error",
     "traceback": [
      "\u001b[0;31m---------------------------------------------------------------------------\u001b[0m",
      "\u001b[0;31mNameError\u001b[0m                                 Traceback (most recent call last)",
      "    \u001b[0;31m[... skipping hidden 1 frame]\u001b[0m\n",
      "\u001b[0;32m<ipython-input-5-755e1f90baee>\u001b[0m in \u001b[0;36m<module>\u001b[0;34m\u001b[0m\n\u001b[1;32m      1\u001b[0m \u001b[0;31m#Training model for dataset 2\u001b[0m\u001b[0;34m\u001b[0m\u001b[0;34m\u001b[0m\u001b[0;34m\u001b[0m\u001b[0m\n\u001b[0;32m----> 2\u001b[0;31m \u001b[0mds2_val_Y_predict\u001b[0m \u001b[0;34m=\u001b[0m \u001b[0mbestMLP_ds2\u001b[0m\u001b[0;34m.\u001b[0m\u001b[0mpredict\u001b[0m\u001b[0;34m(\u001b[0m\u001b[0mds2_val_X\u001b[0m\u001b[0;34m)\u001b[0m\u001b[0;34m\u001b[0m\u001b[0;34m\u001b[0m\u001b[0m\n\u001b[0m\u001b[1;32m      3\u001b[0m \u001b[0;34m\u001b[0m\u001b[0m\n",
      "\u001b[0;31mNameError\u001b[0m: name 'bestMLP_ds2' is not defined",
      "\nDuring handling of the above exception, another exception occurred:\n",
      "\u001b[0;31mAttributeError\u001b[0m                            Traceback (most recent call last)",
      "\u001b[0;32m~/opt/anaconda3/lib/python3.8/site-packages/IPython/core/interactiveshell.py\u001b[0m in \u001b[0;36mshowtraceback\u001b[0;34m(self, exc_tuple, filename, tb_offset, exception_only, running_compiled_code)\u001b[0m\n\u001b[1;32m   2043\u001b[0m                         \u001b[0;31m# in the engines. This should return a list of strings.\u001b[0m\u001b[0;34m\u001b[0m\u001b[0;34m\u001b[0m\u001b[0;34m\u001b[0m\u001b[0m\n\u001b[0;32m-> 2044\u001b[0;31m                         \u001b[0mstb\u001b[0m \u001b[0;34m=\u001b[0m \u001b[0mvalue\u001b[0m\u001b[0;34m.\u001b[0m\u001b[0m_render_traceback_\u001b[0m\u001b[0;34m(\u001b[0m\u001b[0;34m)\u001b[0m\u001b[0;34m\u001b[0m\u001b[0;34m\u001b[0m\u001b[0m\n\u001b[0m\u001b[1;32m   2045\u001b[0m                     \u001b[0;32mexcept\u001b[0m \u001b[0mException\u001b[0m\u001b[0;34m:\u001b[0m\u001b[0;34m\u001b[0m\u001b[0;34m\u001b[0m\u001b[0m\n",
      "\u001b[0;31mAttributeError\u001b[0m: 'NameError' object has no attribute '_render_traceback_'",
      "\nDuring handling of the above exception, another exception occurred:\n",
      "\u001b[0;31mTypeError\u001b[0m                                 Traceback (most recent call last)",
      "    \u001b[0;31m[... skipping hidden 1 frame]\u001b[0m\n",
      "\u001b[0;32m~/opt/anaconda3/lib/python3.8/site-packages/IPython/core/interactiveshell.py\u001b[0m in \u001b[0;36mshowtraceback\u001b[0;34m(self, exc_tuple, filename, tb_offset, exception_only, running_compiled_code)\u001b[0m\n\u001b[1;32m   2044\u001b[0m                         \u001b[0mstb\u001b[0m \u001b[0;34m=\u001b[0m \u001b[0mvalue\u001b[0m\u001b[0;34m.\u001b[0m\u001b[0m_render_traceback_\u001b[0m\u001b[0;34m(\u001b[0m\u001b[0;34m)\u001b[0m\u001b[0;34m\u001b[0m\u001b[0;34m\u001b[0m\u001b[0m\n\u001b[1;32m   2045\u001b[0m                     \u001b[0;32mexcept\u001b[0m \u001b[0mException\u001b[0m\u001b[0;34m:\u001b[0m\u001b[0;34m\u001b[0m\u001b[0;34m\u001b[0m\u001b[0m\n\u001b[0;32m-> 2046\u001b[0;31m                         stb = self.InteractiveTB.structured_traceback(etype,\n\u001b[0m\u001b[1;32m   2047\u001b[0m                                             value, tb, tb_offset=tb_offset)\n\u001b[1;32m   2048\u001b[0m \u001b[0;34m\u001b[0m\u001b[0m\n",
      "\u001b[0;32m~/opt/anaconda3/lib/python3.8/site-packages/IPython/core/ultratb.py\u001b[0m in \u001b[0;36mstructured_traceback\u001b[0;34m(self, etype, value, tb, tb_offset, number_of_lines_of_context)\u001b[0m\n\u001b[1;32m   1433\u001b[0m         \u001b[0;32melse\u001b[0m\u001b[0;34m:\u001b[0m\u001b[0;34m\u001b[0m\u001b[0;34m\u001b[0m\u001b[0m\n\u001b[1;32m   1434\u001b[0m             \u001b[0mself\u001b[0m\u001b[0;34m.\u001b[0m\u001b[0mtb\u001b[0m \u001b[0;34m=\u001b[0m \u001b[0mtb\u001b[0m\u001b[0;34m\u001b[0m\u001b[0;34m\u001b[0m\u001b[0m\n\u001b[0;32m-> 1435\u001b[0;31m         return FormattedTB.structured_traceback(\n\u001b[0m\u001b[1;32m   1436\u001b[0m             self, etype, value, tb, tb_offset, number_of_lines_of_context)\n\u001b[1;32m   1437\u001b[0m \u001b[0;34m\u001b[0m\u001b[0m\n",
      "\u001b[0;32m~/opt/anaconda3/lib/python3.8/site-packages/IPython/core/ultratb.py\u001b[0m in \u001b[0;36mstructured_traceback\u001b[0;34m(self, etype, value, tb, tb_offset, number_of_lines_of_context)\u001b[0m\n\u001b[1;32m   1333\u001b[0m         \u001b[0;32mif\u001b[0m \u001b[0mmode\u001b[0m \u001b[0;32min\u001b[0m \u001b[0mself\u001b[0m\u001b[0;34m.\u001b[0m\u001b[0mverbose_modes\u001b[0m\u001b[0;34m:\u001b[0m\u001b[0;34m\u001b[0m\u001b[0;34m\u001b[0m\u001b[0m\n\u001b[1;32m   1334\u001b[0m             \u001b[0;31m# Verbose modes need a full traceback\u001b[0m\u001b[0;34m\u001b[0m\u001b[0;34m\u001b[0m\u001b[0;34m\u001b[0m\u001b[0m\n\u001b[0;32m-> 1335\u001b[0;31m             return VerboseTB.structured_traceback(\n\u001b[0m\u001b[1;32m   1336\u001b[0m                 \u001b[0mself\u001b[0m\u001b[0;34m,\u001b[0m \u001b[0metype\u001b[0m\u001b[0;34m,\u001b[0m \u001b[0mvalue\u001b[0m\u001b[0;34m,\u001b[0m \u001b[0mtb\u001b[0m\u001b[0;34m,\u001b[0m \u001b[0mtb_offset\u001b[0m\u001b[0;34m,\u001b[0m \u001b[0mnumber_of_lines_of_context\u001b[0m\u001b[0;34m\u001b[0m\u001b[0;34m\u001b[0m\u001b[0m\n\u001b[1;32m   1337\u001b[0m             )\n",
      "\u001b[0;32m~/opt/anaconda3/lib/python3.8/site-packages/IPython/core/ultratb.py\u001b[0m in \u001b[0;36mstructured_traceback\u001b[0;34m(self, etype, evalue, etb, tb_offset, number_of_lines_of_context)\u001b[0m\n\u001b[1;32m   1190\u001b[0m         \u001b[0;34m\"\"\"Return a nice text document describing the traceback.\"\"\"\u001b[0m\u001b[0;34m\u001b[0m\u001b[0;34m\u001b[0m\u001b[0m\n\u001b[1;32m   1191\u001b[0m \u001b[0;34m\u001b[0m\u001b[0m\n\u001b[0;32m-> 1192\u001b[0;31m         formatted_exception = self.format_exception_as_a_whole(etype, evalue, etb, number_of_lines_of_context,\n\u001b[0m\u001b[1;32m   1193\u001b[0m                                                                tb_offset)\n\u001b[1;32m   1194\u001b[0m \u001b[0;34m\u001b[0m\u001b[0m\n",
      "\u001b[0;32m~/opt/anaconda3/lib/python3.8/site-packages/IPython/core/ultratb.py\u001b[0m in \u001b[0;36mformat_exception_as_a_whole\u001b[0;34m(self, etype, evalue, etb, number_of_lines_of_context, tb_offset)\u001b[0m\n\u001b[1;32m   1148\u001b[0m \u001b[0;34m\u001b[0m\u001b[0m\n\u001b[1;32m   1149\u001b[0m \u001b[0;34m\u001b[0m\u001b[0m\n\u001b[0;32m-> 1150\u001b[0;31m         \u001b[0mlast_unique\u001b[0m\u001b[0;34m,\u001b[0m \u001b[0mrecursion_repeat\u001b[0m \u001b[0;34m=\u001b[0m \u001b[0mfind_recursion\u001b[0m\u001b[0;34m(\u001b[0m\u001b[0morig_etype\u001b[0m\u001b[0;34m,\u001b[0m \u001b[0mevalue\u001b[0m\u001b[0;34m,\u001b[0m \u001b[0mrecords\u001b[0m\u001b[0;34m)\u001b[0m\u001b[0;34m\u001b[0m\u001b[0;34m\u001b[0m\u001b[0m\n\u001b[0m\u001b[1;32m   1151\u001b[0m \u001b[0;34m\u001b[0m\u001b[0m\n\u001b[1;32m   1152\u001b[0m         \u001b[0mframes\u001b[0m \u001b[0;34m=\u001b[0m \u001b[0mself\u001b[0m\u001b[0;34m.\u001b[0m\u001b[0mformat_records\u001b[0m\u001b[0;34m(\u001b[0m\u001b[0mrecords\u001b[0m\u001b[0;34m,\u001b[0m \u001b[0mlast_unique\u001b[0m\u001b[0;34m,\u001b[0m \u001b[0mrecursion_repeat\u001b[0m\u001b[0;34m)\u001b[0m\u001b[0;34m\u001b[0m\u001b[0;34m\u001b[0m\u001b[0m\n",
      "\u001b[0;32m~/opt/anaconda3/lib/python3.8/site-packages/IPython/core/ultratb.py\u001b[0m in \u001b[0;36mfind_recursion\u001b[0;34m(etype, value, records)\u001b[0m\n\u001b[1;32m    449\u001b[0m     \u001b[0;31m# first frame (from in to out) that looks different.\u001b[0m\u001b[0;34m\u001b[0m\u001b[0;34m\u001b[0m\u001b[0;34m\u001b[0m\u001b[0m\n\u001b[1;32m    450\u001b[0m     \u001b[0;32mif\u001b[0m \u001b[0;32mnot\u001b[0m \u001b[0mis_recursion_error\u001b[0m\u001b[0;34m(\u001b[0m\u001b[0metype\u001b[0m\u001b[0;34m,\u001b[0m \u001b[0mvalue\u001b[0m\u001b[0;34m,\u001b[0m \u001b[0mrecords\u001b[0m\u001b[0;34m)\u001b[0m\u001b[0;34m:\u001b[0m\u001b[0;34m\u001b[0m\u001b[0;34m\u001b[0m\u001b[0m\n\u001b[0;32m--> 451\u001b[0;31m         \u001b[0;32mreturn\u001b[0m \u001b[0mlen\u001b[0m\u001b[0;34m(\u001b[0m\u001b[0mrecords\u001b[0m\u001b[0;34m)\u001b[0m\u001b[0;34m,\u001b[0m \u001b[0;36m0\u001b[0m\u001b[0;34m\u001b[0m\u001b[0;34m\u001b[0m\u001b[0m\n\u001b[0m\u001b[1;32m    452\u001b[0m \u001b[0;34m\u001b[0m\u001b[0m\n\u001b[1;32m    453\u001b[0m     \u001b[0;31m# Select filename, lineno, func_name to track frames with\u001b[0m\u001b[0;34m\u001b[0m\u001b[0;34m\u001b[0m\u001b[0;34m\u001b[0m\u001b[0m\n",
      "\u001b[0;31mTypeError\u001b[0m: object of type 'NoneType' has no len()"
     ]
    }
   ],
   "source": [
    "#Training model for dataset 2\n",
    "ds2_val_Y_predict = bestMLP_ds2.predict(ds2_val_X)\n",
    "\n",
    "print('Best parameters found:\\n', clf.best_params_)\n",
    "print (sklearn.metrics.confusion_matrix(ds2_val_Y, ds2_val_Y_predict))\n",
    "print ('\\n')\n",
    "print (sklearn.metrics.classification_report(ds2_val_Y, ds2_val_Y_predict, target_names=ds2_labels)) # precision, recall, f1-measure (macro and weighted) and accuracy"
   ]
  },
  {
   "cell_type": "code",
   "execution_count": 14,
   "metadata": {},
   "outputs": [
    {
     "name": "stdout",
     "output_type": "stream",
     "text": [
      "DATASET 1\n",
      "\n",
      "[[4 0 0 0 0 0 0 0 0 0 0 0 0 0 0 0 0 0 0 0 0 0 0 0 0 0]\n",
      " [0 2 0 0 0 0 0 0 0 0 0 0 0 0 0 0 0 0 0 0 0 0 0 0 0 0]\n",
      " [0 0 4 0 0 0 0 0 0 0 0 0 0 0 0 0 0 0 0 0 0 0 0 0 0 0]\n",
      " [0 0 0 3 0 0 0 0 0 0 0 0 0 0 0 0 0 0 0 0 0 0 0 0 0 0]\n",
      " [0 0 0 0 2 0 0 0 0 0 0 0 0 0 0 0 0 0 0 0 0 0 0 0 0 0]\n",
      " [0 0 0 0 0 1 0 0 0 0 0 0 0 0 0 1 0 0 0 0 0 0 0 0 0 0]\n",
      " [0 0 0 0 0 0 4 0 0 0 0 0 0 0 0 0 0 0 0 0 0 0 0 0 0 0]\n",
      " [0 0 0 0 0 0 0 3 0 0 0 0 0 0 0 0 0 0 0 0 0 0 0 0 0 0]\n",
      " [0 0 0 0 0 0 0 0 3 0 0 0 0 0 0 0 0 0 0 0 0 0 0 0 0 0]\n",
      " [0 0 0 0 0 0 0 0 0 2 0 0 0 0 0 0 0 0 0 2 0 0 0 0 0 0]\n",
      " [0 0 0 0 0 0 0 1 0 0 1 0 0 0 0 0 0 0 0 0 0 0 0 1 0 0]\n",
      " [0 0 0 0 0 0 0 0 0 0 0 4 0 0 0 0 0 0 0 0 0 0 0 0 0 0]\n",
      " [0 0 0 0 0 0 0 0 0 0 0 0 3 0 0 0 0 0 0 0 0 0 0 0 0 0]\n",
      " [0 1 0 0 0 0 0 0 0 0 0 0 0 3 0 0 0 0 0 0 0 0 0 0 0 0]\n",
      " [0 0 0 0 0 0 0 0 0 0 0 0 0 0 3 0 0 0 0 0 0 0 0 0 0 0]\n",
      " [0 0 0 0 0 0 0 0 0 0 0 0 0 0 0 3 0 0 0 0 0 0 0 0 0 0]\n",
      " [0 0 0 0 0 0 0 0 0 0 0 0 0 0 0 0 3 0 0 0 0 0 0 0 0 0]\n",
      " [0 0 0 0 0 0 0 0 0 0 1 0 0 0 0 0 0 3 0 0 0 0 0 0 0 0]\n",
      " [0 0 0 0 0 0 1 0 0 0 0 0 0 0 0 0 0 0 2 0 0 0 0 0 0 0]\n",
      " [0 0 0 0 0 0 0 0 0 0 0 0 0 0 0 0 0 0 0 2 0 0 0 0 0 0]\n",
      " [0 0 0 0 0 0 0 0 0 0 0 0 0 0 0 0 0 0 0 0 3 0 0 0 0 0]\n",
      " [0 0 0 0 0 0 0 0 0 0 0 0 0 0 0 0 0 0 0 0 0 3 0 0 0 0]\n",
      " [0 0 0 0 0 0 0 0 0 0 0 0 0 0 0 0 0 0 0 0 0 0 3 0 0 0]\n",
      " [0 0 0 0 0 0 0 0 0 0 0 0 0 0 0 0 0 0 0 0 0 0 0 2 0 0]\n",
      " [0 0 0 0 0 0 0 0 0 0 0 0 0 0 0 0 0 0 0 0 0 0 0 0 3 0]\n",
      " [0 0 0 0 0 0 0 0 0 0 1 0 0 0 0 0 0 0 0 0 0 0 0 0 0 2]]\n",
      "\n",
      "\n",
      "              precision    recall  f1-score   support\n",
      "\n",
      "           A       1.00      1.00      1.00         4\n",
      "           B       0.67      1.00      0.80         2\n",
      "           C       1.00      1.00      1.00         4\n",
      "           D       1.00      1.00      1.00         3\n",
      "           E       1.00      1.00      1.00         2\n",
      "           F       1.00      0.50      0.67         2\n",
      "           G       0.80      1.00      0.89         4\n",
      "           H       0.75      1.00      0.86         3\n",
      "           I       1.00      1.00      1.00         3\n",
      "           J       1.00      0.50      0.67         4\n",
      "           K       0.33      0.33      0.33         3\n",
      "           L       1.00      1.00      1.00         4\n",
      "           M       1.00      1.00      1.00         3\n",
      "           N       1.00      0.75      0.86         4\n",
      "           O       1.00      1.00      1.00         3\n",
      "           P       0.75      1.00      0.86         3\n",
      "           Q       1.00      1.00      1.00         3\n",
      "           R       1.00      0.75      0.86         4\n",
      "           S       1.00      0.67      0.80         3\n",
      "           T       0.50      1.00      0.67         2\n",
      "           U       1.00      1.00      1.00         3\n",
      "           V       1.00      1.00      1.00         3\n",
      "           W       1.00      1.00      1.00         3\n",
      "           X       0.67      1.00      0.80         2\n",
      "           Y       1.00      1.00      1.00         3\n",
      "           Z       1.00      0.67      0.80         3\n",
      "\n",
      "    accuracy                           0.89        80\n",
      "   macro avg       0.90      0.89      0.88        80\n",
      "weighted avg       0.92      0.89      0.89        80\n",
      "\n",
      "\n",
      "=====================================================\n",
      "\n",
      "DATASET 2\n",
      "\n",
      "[[ 51   0   1   1   1   1   0   0   0   0]\n",
      " [  0 122   1   1   0   0   0   0   1   0]\n",
      " [  0   0  10   0   0   0   0   0   4   1]\n",
      " [  0   0   0  13   1   1   0   0   0   0]\n",
      " [  4   1   0   0  41   1   0   0   1   2]\n",
      " [  0   0   1   0   1  52   0   0   0   1]\n",
      " [  0   1   0   0   2   0  12   0   0   0]\n",
      " [  0   0   0   0   0   0   0  15   0   0]\n",
      " [  0   1   0   0   0   0   0   0  48   1]\n",
      " [  1   0   0   0   3   5   0   0   2 114]]\n",
      "\n",
      "\n",
      "              precision    recall  f1-score   support\n",
      "\n",
      "          pi       0.91      0.93      0.92        55\n",
      "       alpha       0.98      0.98      0.98       125\n",
      "        beta       0.77      0.67      0.71        15\n",
      "       sigma       0.87      0.87      0.87        15\n",
      "       gamma       0.84      0.82      0.83        50\n",
      "       delta       0.87      0.95      0.90        55\n",
      "      lambda       1.00      0.80      0.89        15\n",
      "       omega       1.00      1.00      1.00        15\n",
      "          mu       0.86      0.96      0.91        50\n",
      "          xi       0.96      0.91      0.93       125\n",
      "\n",
      "    accuracy                           0.92       520\n",
      "   macro avg       0.90      0.89      0.89       520\n",
      "weighted avg       0.92      0.92      0.92       520\n",
      "\n"
     ]
    }
   ],
   "source": [
    "#Testing for dataset 1\n",
    "ds1_test_X, ds1_test_Y = load_dataset('test_with_label_1')\n",
    "ds1_test_Y_predict = bestMLP_ds1.predict(ds1_test_X)\n",
    "\n",
    "print(\"DATASET 1\\n\")\n",
    "print (sklearn.metrics.confusion_matrix(ds1_test_Y, ds1_test_Y_predict)) # confusion matrix\n",
    "print ('\\n')\n",
    "print (sklearn.metrics.classification_report(ds1_test_Y, ds1_test_Y_predict, target_names=ds1_labels)) # precision, recall, f1-measure (macro and weighted average) and accuracy\n",
    "\n",
    "#Testing for dataset 2\n",
    "ds2_test_X, ds2_test_Y = load_dataset('test_with_label_2')\n",
    "ds2_test_Y_predict = bestMLP_ds2.predict(ds2_test_X)\n",
    "\n",
    "print(\"\\n=====================================================\\n\")\n",
    "print(\"DATASET 2\\n\")\n",
    "print (sklearn.metrics.confusion_matrix(ds2_test_Y, ds2_test_Y_predict)) # confusion matrix\n",
    "print ('\\n')\n",
    "print (sklearn.metrics.classification_report(ds2_test_Y, ds2_test_Y_predict, target_names=ds2_labels)) # precision, recall, f1-measure (macro and weighted average) and accuracy\n",
    "\n",
    "\n",
    "\n",
    "# Write test results to output file GNB-DS1.csv\n",
    "create_output_file(ds1_test_Y, ds1_test_Y_predict, ds1_labels, 'Best-MLP-DS1')\n",
    "create_output_file(ds2_test_Y, ds2_test_Y_predict, ds2_labels, 'Best-MLP-DS2')"
   ]
  }
 ],
 "metadata": {
  "kernelspec": {
   "display_name": "Python 3",
   "language": "python",
   "name": "python3"
  },
  "language_info": {
   "codemirror_mode": {
    "name": "ipython",
    "version": 3
   },
   "file_extension": ".py",
   "mimetype": "text/x-python",
   "name": "python",
   "nbconvert_exporter": "python",
   "pygments_lexer": "ipython3",
   "version": "3.8.3"
  }
 },
 "nbformat": 4,
 "nbformat_minor": 4
}
